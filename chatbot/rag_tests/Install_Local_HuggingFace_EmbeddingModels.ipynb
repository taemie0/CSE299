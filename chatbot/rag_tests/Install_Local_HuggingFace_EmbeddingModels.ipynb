{
 "cells": [
  {
   "cell_type": "markdown",
   "metadata": {},
   "source": [
    "Usage of this notebook: \n",
    "1. Install the hugging face embedding models Locally.  \n",
    "2. Crate Embedding Vector Data Base with one of the 3 Chunking Methods. (Sementic,Recursive,Character)"
   ]
  },
  {
   "cell_type": "markdown",
   "metadata": {},
   "source": [
    "* <b> HuggingFace Models </b>\n",
    "\n",
    "    1.    \"sentence-transformers/all-mpnet-base-v2\"\n",
    "\n",
    "    2.    \"sentence-transformers/all-MiniLM-L6-v2\"\n",
    "\n",
    "    3.    \"BAAI/bge-small-en-v1.5\"\n",
    "\n",
    "    4.    \"nomic-ai/nomic-embed-text-v1.5\"\n"
   ]
  },
  {
   "cell_type": "code",
   "execution_count": 1,
   "metadata": {
    "colab": {
     "base_uri": "https://localhost:8080/"
    },
    "collapsed": true,
    "id": "USkA-oB3Q9XD",
    "outputId": "4541b89c-c1c3-4e05-d63e-540b2784cbc4"
   },
   "outputs": [
    {
     "name": "stdout",
     "output_type": "stream",
     "text": [
      "Requirement already satisfied: langchain in e:\\cse299\\chatbot\\venv\\lib\\site-packages (from -r requiremnets.txt (line 1)) (0.3.0)\n",
      "Requirement already satisfied: langchain-community in e:\\cse299\\chatbot\\venv\\lib\\site-packages (from -r requiremnets.txt (line 2)) (0.3.0)\n",
      "Requirement already satisfied: langchain-chroma in e:\\cse299\\chatbot\\venv\\lib\\site-packages (from -r requiremnets.txt (line 3)) (0.1.4)\n",
      "Requirement already satisfied: langchain_huggingface in e:\\cse299\\chatbot\\venv\\lib\\site-packages (from -r requiremnets.txt (line 4)) (0.1.0)\n",
      "Requirement already satisfied: transformers in e:\\cse299\\chatbot\\venv\\lib\\site-packages (from -r requiremnets.txt (line 5)) (4.45.2)\n",
      "Requirement already satisfied: sentence-transformers in e:\\cse299\\chatbot\\venv\\lib\\site-packages (from -r requiremnets.txt (line 6)) (3.2.1)\n",
      "Requirement already satisfied: chromadb in e:\\cse299\\chatbot\\venv\\lib\\site-packages (from -r requiremnets.txt (line 7)) (0.5.3)\n",
      "Requirement already satisfied: torch in e:\\cse299\\chatbot\\venv\\lib\\site-packages (from -r requiremnets.txt (line 8)) (2.4.1)\n",
      "Requirement already satisfied: pypdf in e:\\cse299\\chatbot\\venv\\lib\\site-packages (from -r requiremnets.txt (line 9)) (4.3.1)\n",
      "Requirement already satisfied: python-dotenv in e:\\cse299\\chatbot\\venv\\lib\\site-packages (from -r requiremnets.txt (line 10)) (1.0.1)\n",
      "Requirement already satisfied: langchain_experimental in e:\\cse299\\chatbot\\venv\\lib\\site-packages (from -r requiremnets.txt (line 11)) (0.3.2)\n",
      "Requirement already satisfied: PyYAML>=5.3 in e:\\cse299\\chatbot\\venv\\lib\\site-packages (from langchain->-r requiremnets.txt (line 1)) (6.0.2)\n",
      "Requirement already satisfied: SQLAlchemy<3,>=1.4 in e:\\cse299\\chatbot\\venv\\lib\\site-packages (from langchain->-r requiremnets.txt (line 1)) (2.0.34)\n",
      "Requirement already satisfied: aiohttp<4.0.0,>=3.8.3 in e:\\cse299\\chatbot\\venv\\lib\\site-packages (from langchain->-r requiremnets.txt (line 1)) (3.10.5)\n",
      "Requirement already satisfied: langchain-core<0.4.0,>=0.3.0 in e:\\cse299\\chatbot\\venv\\lib\\site-packages (from langchain->-r requiremnets.txt (line 1)) (0.3.9)\n",
      "Requirement already satisfied: langchain-text-splitters<0.4.0,>=0.3.0 in e:\\cse299\\chatbot\\venv\\lib\\site-packages (from langchain->-r requiremnets.txt (line 1)) (0.3.0)\n",
      "Requirement already satisfied: langsmith<0.2.0,>=0.1.17 in e:\\cse299\\chatbot\\venv\\lib\\site-packages (from langchain->-r requiremnets.txt (line 1)) (0.1.131)\n",
      "Requirement already satisfied: numpy<2,>=1 in e:\\cse299\\chatbot\\venv\\lib\\site-packages (from langchain->-r requiremnets.txt (line 1)) (1.26.4)\n",
      "Requirement already satisfied: pydantic<3.0.0,>=2.7.4 in e:\\cse299\\chatbot\\venv\\lib\\site-packages (from langchain->-r requiremnets.txt (line 1)) (2.9.1)\n",
      "Requirement already satisfied: requests<3,>=2 in e:\\cse299\\chatbot\\venv\\lib\\site-packages (from langchain->-r requiremnets.txt (line 1)) (2.32.3)\n",
      "Requirement already satisfied: tenacity!=8.4.0,<9.0.0,>=8.1.0 in e:\\cse299\\chatbot\\venv\\lib\\site-packages (from langchain->-r requiremnets.txt (line 1)) (8.5.0)\n",
      "Requirement already satisfied: dataclasses-json<0.7,>=0.5.7 in e:\\cse299\\chatbot\\venv\\lib\\site-packages (from langchain-community->-r requiremnets.txt (line 2)) (0.6.7)\n",
      "Requirement already satisfied: pydantic-settings<3.0.0,>=2.4.0 in e:\\cse299\\chatbot\\venv\\lib\\site-packages (from langchain-community->-r requiremnets.txt (line 2)) (2.5.2)\n",
      "Requirement already satisfied: fastapi<1,>=0.95.2 in e:\\cse299\\chatbot\\venv\\lib\\site-packages (from langchain-chroma->-r requiremnets.txt (line 3)) (0.114.1)\n",
      "Requirement already satisfied: huggingface-hub>=0.23.0 in e:\\cse299\\chatbot\\venv\\lib\\site-packages (from langchain_huggingface->-r requiremnets.txt (line 4)) (0.24.7)\n",
      "Requirement already satisfied: tokenizers>=0.19.1 in e:\\cse299\\chatbot\\venv\\lib\\site-packages (from langchain_huggingface->-r requiremnets.txt (line 4)) (0.20.1)\n",
      "Requirement already satisfied: filelock in e:\\cse299\\chatbot\\venv\\lib\\site-packages (from transformers->-r requiremnets.txt (line 5)) (3.16.0)\n",
      "Requirement already satisfied: packaging>=20.0 in e:\\cse299\\chatbot\\venv\\lib\\site-packages (from transformers->-r requiremnets.txt (line 5)) (24.1)\n",
      "Requirement already satisfied: regex!=2019.12.17 in e:\\cse299\\chatbot\\venv\\lib\\site-packages (from transformers->-r requiremnets.txt (line 5)) (2024.9.11)\n",
      "Requirement already satisfied: safetensors>=0.4.1 in e:\\cse299\\chatbot\\venv\\lib\\site-packages (from transformers->-r requiremnets.txt (line 5)) (0.4.5)\n",
      "Requirement already satisfied: tqdm>=4.27 in e:\\cse299\\chatbot\\venv\\lib\\site-packages (from transformers->-r requiremnets.txt (line 5)) (4.66.5)\n",
      "Requirement already satisfied: scikit-learn in e:\\cse299\\chatbot\\venv\\lib\\site-packages (from sentence-transformers->-r requiremnets.txt (line 6)) (1.5.2)\n",
      "Requirement already satisfied: scipy in e:\\cse299\\chatbot\\venv\\lib\\site-packages (from sentence-transformers->-r requiremnets.txt (line 6)) (1.14.1)\n",
      "Requirement already satisfied: Pillow in e:\\cse299\\chatbot\\venv\\lib\\site-packages (from sentence-transformers->-r requiremnets.txt (line 6)) (10.4.0)\n",
      "Requirement already satisfied: build>=1.0.3 in e:\\cse299\\chatbot\\venv\\lib\\site-packages (from chromadb->-r requiremnets.txt (line 7)) (1.2.2)\n",
      "Requirement already satisfied: chroma-hnswlib==0.7.3 in e:\\cse299\\chatbot\\venv\\lib\\site-packages (from chromadb->-r requiremnets.txt (line 7)) (0.7.3)\n",
      "Requirement already satisfied: uvicorn>=0.18.3 in e:\\cse299\\chatbot\\venv\\lib\\site-packages (from uvicorn[standard]>=0.18.3->chromadb->-r requiremnets.txt (line 7)) (0.30.6)\n",
      "Requirement already satisfied: posthog>=2.4.0 in e:\\cse299\\chatbot\\venv\\lib\\site-packages (from chromadb->-r requiremnets.txt (line 7)) (3.6.5)\n",
      "Requirement already satisfied: typing-extensions>=4.5.0 in e:\\cse299\\chatbot\\venv\\lib\\site-packages (from chromadb->-r requiremnets.txt (line 7)) (4.12.2)\n",
      "Requirement already satisfied: onnxruntime>=1.14.1 in e:\\cse299\\chatbot\\venv\\lib\\site-packages (from chromadb->-r requiremnets.txt (line 7)) (1.19.2)\n",
      "Requirement already satisfied: opentelemetry-api>=1.2.0 in e:\\cse299\\chatbot\\venv\\lib\\site-packages (from chromadb->-r requiremnets.txt (line 7)) (1.27.0)\n",
      "Requirement already satisfied: opentelemetry-exporter-otlp-proto-grpc>=1.2.0 in e:\\cse299\\chatbot\\venv\\lib\\site-packages (from chromadb->-r requiremnets.txt (line 7)) (1.27.0)\n",
      "Requirement already satisfied: opentelemetry-instrumentation-fastapi>=0.41b0 in e:\\cse299\\chatbot\\venv\\lib\\site-packages (from chromadb->-r requiremnets.txt (line 7)) (0.48b0)\n",
      "Requirement already satisfied: opentelemetry-sdk>=1.2.0 in e:\\cse299\\chatbot\\venv\\lib\\site-packages (from chromadb->-r requiremnets.txt (line 7)) (1.27.0)\n",
      "Requirement already satisfied: pypika>=0.48.9 in e:\\cse299\\chatbot\\venv\\lib\\site-packages (from chromadb->-r requiremnets.txt (line 7)) (0.48.9)\n",
      "Requirement already satisfied: overrides>=7.3.1 in e:\\cse299\\chatbot\\venv\\lib\\site-packages (from chromadb->-r requiremnets.txt (line 7)) (7.7.0)\n",
      "Requirement already satisfied: importlib-resources in e:\\cse299\\chatbot\\venv\\lib\\site-packages (from chromadb->-r requiremnets.txt (line 7)) (6.4.5)\n",
      "Requirement already satisfied: grpcio>=1.58.0 in e:\\cse299\\chatbot\\venv\\lib\\site-packages (from chromadb->-r requiremnets.txt (line 7)) (1.66.1)\n",
      "Requirement already satisfied: bcrypt>=4.0.1 in e:\\cse299\\chatbot\\venv\\lib\\site-packages (from chromadb->-r requiremnets.txt (line 7)) (4.2.0)\n",
      "Requirement already satisfied: typer>=0.9.0 in e:\\cse299\\chatbot\\venv\\lib\\site-packages (from chromadb->-r requiremnets.txt (line 7)) (0.12.5)\n",
      "Requirement already satisfied: kubernetes>=28.1.0 in e:\\cse299\\chatbot\\venv\\lib\\site-packages (from chromadb->-r requiremnets.txt (line 7)) (30.1.0)\n",
      "Requirement already satisfied: mmh3>=4.0.1 in e:\\cse299\\chatbot\\venv\\lib\\site-packages (from chromadb->-r requiremnets.txt (line 7)) (4.1.0)\n",
      "Requirement already satisfied: orjson>=3.9.12 in e:\\cse299\\chatbot\\venv\\lib\\site-packages (from chromadb->-r requiremnets.txt (line 7)) (3.10.7)\n",
      "Requirement already satisfied: httpx>=0.27.0 in e:\\cse299\\chatbot\\venv\\lib\\site-packages (from chromadb->-r requiremnets.txt (line 7)) (0.27.2)\n",
      "Requirement already satisfied: sympy in e:\\cse299\\chatbot\\venv\\lib\\site-packages (from torch->-r requiremnets.txt (line 8)) (1.13.2)\n",
      "Requirement already satisfied: networkx in e:\\cse299\\chatbot\\venv\\lib\\site-packages (from torch->-r requiremnets.txt (line 8)) (3.3)\n",
      "Requirement already satisfied: jinja2 in e:\\cse299\\chatbot\\venv\\lib\\site-packages (from torch->-r requiremnets.txt (line 8)) (3.1.4)\n",
      "Requirement already satisfied: fsspec in e:\\cse299\\chatbot\\venv\\lib\\site-packages (from torch->-r requiremnets.txt (line 8)) (2024.9.0)\n",
      "Requirement already satisfied: aiohappyeyeballs>=2.3.0 in e:\\cse299\\chatbot\\venv\\lib\\site-packages (from aiohttp<4.0.0,>=3.8.3->langchain->-r requiremnets.txt (line 1)) (2.4.0)\n",
      "Requirement already satisfied: aiosignal>=1.1.2 in e:\\cse299\\chatbot\\venv\\lib\\site-packages (from aiohttp<4.0.0,>=3.8.3->langchain->-r requiremnets.txt (line 1)) (1.3.1)\n",
      "Requirement already satisfied: attrs>=17.3.0 in e:\\cse299\\chatbot\\venv\\lib\\site-packages (from aiohttp<4.0.0,>=3.8.3->langchain->-r requiremnets.txt (line 1)) (24.2.0)\n",
      "Requirement already satisfied: frozenlist>=1.1.1 in e:\\cse299\\chatbot\\venv\\lib\\site-packages (from aiohttp<4.0.0,>=3.8.3->langchain->-r requiremnets.txt (line 1)) (1.4.1)\n",
      "Requirement already satisfied: multidict<7.0,>=4.5 in e:\\cse299\\chatbot\\venv\\lib\\site-packages (from aiohttp<4.0.0,>=3.8.3->langchain->-r requiremnets.txt (line 1)) (6.1.0)\n",
      "Requirement already satisfied: yarl<2.0,>=1.0 in e:\\cse299\\chatbot\\venv\\lib\\site-packages (from aiohttp<4.0.0,>=3.8.3->langchain->-r requiremnets.txt (line 1)) (1.11.1)\n",
      "Requirement already satisfied: pyproject_hooks in e:\\cse299\\chatbot\\venv\\lib\\site-packages (from build>=1.0.3->chromadb->-r requiremnets.txt (line 7)) (1.1.0)\n",
      "Requirement already satisfied: colorama in e:\\cse299\\chatbot\\venv\\lib\\site-packages (from build>=1.0.3->chromadb->-r requiremnets.txt (line 7)) (0.4.6)\n",
      "Requirement already satisfied: marshmallow<4.0.0,>=3.18.0 in e:\\cse299\\chatbot\\venv\\lib\\site-packages (from dataclasses-json<0.7,>=0.5.7->langchain-community->-r requiremnets.txt (line 2)) (3.22.0)\n",
      "Requirement already satisfied: typing-inspect<1,>=0.4.0 in e:\\cse299\\chatbot\\venv\\lib\\site-packages (from dataclasses-json<0.7,>=0.5.7->langchain-community->-r requiremnets.txt (line 2)) (0.9.0)\n",
      "Requirement already satisfied: starlette<0.39.0,>=0.37.2 in e:\\cse299\\chatbot\\venv\\lib\\site-packages (from fastapi<1,>=0.95.2->langchain-chroma->-r requiremnets.txt (line 3)) (0.38.5)\n",
      "Requirement already satisfied: anyio in e:\\cse299\\chatbot\\venv\\lib\\site-packages (from httpx>=0.27.0->chromadb->-r requiremnets.txt (line 7)) (4.4.0)\n",
      "Requirement already satisfied: certifi in e:\\cse299\\chatbot\\venv\\lib\\site-packages (from httpx>=0.27.0->chromadb->-r requiremnets.txt (line 7)) (2024.8.30)\n",
      "Requirement already satisfied: httpcore==1.* in e:\\cse299\\chatbot\\venv\\lib\\site-packages (from httpx>=0.27.0->chromadb->-r requiremnets.txt (line 7)) (1.0.5)\n",
      "Requirement already satisfied: idna in e:\\cse299\\chatbot\\venv\\lib\\site-packages (from httpx>=0.27.0->chromadb->-r requiremnets.txt (line 7)) (3.8)\n",
      "Requirement already satisfied: sniffio in e:\\cse299\\chatbot\\venv\\lib\\site-packages (from httpx>=0.27.0->chromadb->-r requiremnets.txt (line 7)) (1.3.1)\n",
      "Requirement already satisfied: h11<0.15,>=0.13 in e:\\cse299\\chatbot\\venv\\lib\\site-packages (from httpcore==1.*->httpx>=0.27.0->chromadb->-r requiremnets.txt (line 7)) (0.14.0)\n",
      "Requirement already satisfied: six>=1.9.0 in e:\\cse299\\chatbot\\venv\\lib\\site-packages (from kubernetes>=28.1.0->chromadb->-r requiremnets.txt (line 7)) (1.16.0)\n",
      "Requirement already satisfied: python-dateutil>=2.5.3 in e:\\cse299\\chatbot\\venv\\lib\\site-packages (from kubernetes>=28.1.0->chromadb->-r requiremnets.txt (line 7)) (2.9.0.post0)\n",
      "Requirement already satisfied: google-auth>=1.0.1 in e:\\cse299\\chatbot\\venv\\lib\\site-packages (from kubernetes>=28.1.0->chromadb->-r requiremnets.txt (line 7)) (2.34.0)\n",
      "Requirement already satisfied: websocket-client!=0.40.0,!=0.41.*,!=0.42.*,>=0.32.0 in e:\\cse299\\chatbot\\venv\\lib\\site-packages (from kubernetes>=28.1.0->chromadb->-r requiremnets.txt (line 7)) (1.8.0)\n",
      "Requirement already satisfied: requests-oauthlib in e:\\cse299\\chatbot\\venv\\lib\\site-packages (from kubernetes>=28.1.0->chromadb->-r requiremnets.txt (line 7)) (2.0.0)\n",
      "Requirement already satisfied: oauthlib>=3.2.2 in e:\\cse299\\chatbot\\venv\\lib\\site-packages (from kubernetes>=28.1.0->chromadb->-r requiremnets.txt (line 7)) (3.2.2)\n",
      "Requirement already satisfied: urllib3>=1.24.2 in e:\\cse299\\chatbot\\venv\\lib\\site-packages (from kubernetes>=28.1.0->chromadb->-r requiremnets.txt (line 7)) (2.2.3)\n",
      "Requirement already satisfied: jsonpatch<2.0,>=1.33 in e:\\cse299\\chatbot\\venv\\lib\\site-packages (from langchain-core<0.4.0,>=0.3.0->langchain->-r requiremnets.txt (line 1)) (1.33)\n",
      "Requirement already satisfied: requests-toolbelt<2.0.0,>=1.0.0 in e:\\cse299\\chatbot\\venv\\lib\\site-packages (from langsmith<0.2.0,>=0.1.17->langchain->-r requiremnets.txt (line 1)) (1.0.0)\n",
      "Requirement already satisfied: coloredlogs in e:\\cse299\\chatbot\\venv\\lib\\site-packages (from onnxruntime>=1.14.1->chromadb->-r requiremnets.txt (line 7)) (15.0.1)\n",
      "Requirement already satisfied: flatbuffers in e:\\cse299\\chatbot\\venv\\lib\\site-packages (from onnxruntime>=1.14.1->chromadb->-r requiremnets.txt (line 7)) (24.3.25)\n",
      "Requirement already satisfied: protobuf in e:\\cse299\\chatbot\\venv\\lib\\site-packages (from onnxruntime>=1.14.1->chromadb->-r requiremnets.txt (line 7)) (4.25.4)\n",
      "Requirement already satisfied: deprecated>=1.2.6 in e:\\cse299\\chatbot\\venv\\lib\\site-packages (from opentelemetry-api>=1.2.0->chromadb->-r requiremnets.txt (line 7)) (1.2.14)\n",
      "Requirement already satisfied: importlib-metadata<=8.4.0,>=6.0 in e:\\cse299\\chatbot\\venv\\lib\\site-packages (from opentelemetry-api>=1.2.0->chromadb->-r requiremnets.txt (line 7)) (8.4.0)\n",
      "Requirement already satisfied: googleapis-common-protos~=1.52 in e:\\cse299\\chatbot\\venv\\lib\\site-packages (from opentelemetry-exporter-otlp-proto-grpc>=1.2.0->chromadb->-r requiremnets.txt (line 7)) (1.65.0)\n",
      "Requirement already satisfied: opentelemetry-exporter-otlp-proto-common==1.27.0 in e:\\cse299\\chatbot\\venv\\lib\\site-packages (from opentelemetry-exporter-otlp-proto-grpc>=1.2.0->chromadb->-r requiremnets.txt (line 7)) (1.27.0)\n",
      "Requirement already satisfied: opentelemetry-proto==1.27.0 in e:\\cse299\\chatbot\\venv\\lib\\site-packages (from opentelemetry-exporter-otlp-proto-grpc>=1.2.0->chromadb->-r requiremnets.txt (line 7)) (1.27.0)\n",
      "Requirement already satisfied: opentelemetry-instrumentation-asgi==0.48b0 in e:\\cse299\\chatbot\\venv\\lib\\site-packages (from opentelemetry-instrumentation-fastapi>=0.41b0->chromadb->-r requiremnets.txt (line 7)) (0.48b0)\n",
      "Requirement already satisfied: opentelemetry-instrumentation==0.48b0 in e:\\cse299\\chatbot\\venv\\lib\\site-packages (from opentelemetry-instrumentation-fastapi>=0.41b0->chromadb->-r requiremnets.txt (line 7)) (0.48b0)\n",
      "Requirement already satisfied: opentelemetry-semantic-conventions==0.48b0 in e:\\cse299\\chatbot\\venv\\lib\\site-packages (from opentelemetry-instrumentation-fastapi>=0.41b0->chromadb->-r requiremnets.txt (line 7)) (0.48b0)\n",
      "Requirement already satisfied: opentelemetry-util-http==0.48b0 in e:\\cse299\\chatbot\\venv\\lib\\site-packages (from opentelemetry-instrumentation-fastapi>=0.41b0->chromadb->-r requiremnets.txt (line 7)) (0.48b0)\n",
      "Requirement already satisfied: setuptools>=16.0 in e:\\cse299\\chatbot\\venv\\lib\\site-packages (from opentelemetry-instrumentation==0.48b0->opentelemetry-instrumentation-fastapi>=0.41b0->chromadb->-r requiremnets.txt (line 7)) (65.5.0)\n",
      "Requirement already satisfied: wrapt<2.0.0,>=1.0.0 in e:\\cse299\\chatbot\\venv\\lib\\site-packages (from opentelemetry-instrumentation==0.48b0->opentelemetry-instrumentation-fastapi>=0.41b0->chromadb->-r requiremnets.txt (line 7)) (1.16.0)\n",
      "Requirement already satisfied: asgiref~=3.0 in e:\\cse299\\chatbot\\venv\\lib\\site-packages (from opentelemetry-instrumentation-asgi==0.48b0->opentelemetry-instrumentation-fastapi>=0.41b0->chromadb->-r requiremnets.txt (line 7)) (3.8.1)\n",
      "Requirement already satisfied: monotonic>=1.5 in e:\\cse299\\chatbot\\venv\\lib\\site-packages (from posthog>=2.4.0->chromadb->-r requiremnets.txt (line 7)) (1.6)\n",
      "Requirement already satisfied: backoff>=1.10.0 in e:\\cse299\\chatbot\\venv\\lib\\site-packages (from posthog>=2.4.0->chromadb->-r requiremnets.txt (line 7)) (2.2.1)\n",
      "Requirement already satisfied: annotated-types>=0.6.0 in e:\\cse299\\chatbot\\venv\\lib\\site-packages (from pydantic<3.0.0,>=2.7.4->langchain->-r requiremnets.txt (line 1)) (0.7.0)\n",
      "Requirement already satisfied: pydantic-core==2.23.3 in e:\\cse299\\chatbot\\venv\\lib\\site-packages (from pydantic<3.0.0,>=2.7.4->langchain->-r requiremnets.txt (line 1)) (2.23.3)\n",
      "Requirement already satisfied: charset-normalizer<4,>=2 in e:\\cse299\\chatbot\\venv\\lib\\site-packages (from requests<3,>=2->langchain->-r requiremnets.txt (line 1)) (3.3.2)\n",
      "Requirement already satisfied: greenlet!=0.4.17 in e:\\cse299\\chatbot\\venv\\lib\\site-packages (from SQLAlchemy<3,>=1.4->langchain->-r requiremnets.txt (line 1)) (3.1.0)\n",
      "Requirement already satisfied: click>=8.0.0 in e:\\cse299\\chatbot\\venv\\lib\\site-packages (from typer>=0.9.0->chromadb->-r requiremnets.txt (line 7)) (8.1.7)\n",
      "Requirement already satisfied: shellingham>=1.3.0 in e:\\cse299\\chatbot\\venv\\lib\\site-packages (from typer>=0.9.0->chromadb->-r requiremnets.txt (line 7)) (1.5.4)\n",
      "Requirement already satisfied: rich>=10.11.0 in e:\\cse299\\chatbot\\venv\\lib\\site-packages (from typer>=0.9.0->chromadb->-r requiremnets.txt (line 7)) (13.8.1)\n",
      "Requirement already satisfied: httptools>=0.5.0 in e:\\cse299\\chatbot\\venv\\lib\\site-packages (from uvicorn[standard]>=0.18.3->chromadb->-r requiremnets.txt (line 7)) (0.6.1)\n",
      "Requirement already satisfied: watchfiles>=0.13 in e:\\cse299\\chatbot\\venv\\lib\\site-packages (from uvicorn[standard]>=0.18.3->chromadb->-r requiremnets.txt (line 7)) (0.24.0)\n",
      "Requirement already satisfied: websockets>=10.4 in e:\\cse299\\chatbot\\venv\\lib\\site-packages (from uvicorn[standard]>=0.18.3->chromadb->-r requiremnets.txt (line 7)) (13.0.1)\n",
      "Requirement already satisfied: MarkupSafe>=2.0 in e:\\cse299\\chatbot\\venv\\lib\\site-packages (from jinja2->torch->-r requiremnets.txt (line 8)) (2.1.5)\n",
      "Requirement already satisfied: joblib>=1.2.0 in e:\\cse299\\chatbot\\venv\\lib\\site-packages (from scikit-learn->sentence-transformers->-r requiremnets.txt (line 6)) (1.4.2)\n",
      "Requirement already satisfied: threadpoolctl>=3.1.0 in e:\\cse299\\chatbot\\venv\\lib\\site-packages (from scikit-learn->sentence-transformers->-r requiremnets.txt (line 6)) (3.5.0)\n",
      "Requirement already satisfied: mpmath<1.4,>=1.1.0 in e:\\cse299\\chatbot\\venv\\lib\\site-packages (from sympy->torch->-r requiremnets.txt (line 8)) (1.3.0)\n",
      "Requirement already satisfied: cachetools<6.0,>=2.0.0 in e:\\cse299\\chatbot\\venv\\lib\\site-packages (from google-auth>=1.0.1->kubernetes>=28.1.0->chromadb->-r requiremnets.txt (line 7)) (5.5.0)\n",
      "Requirement already satisfied: pyasn1-modules>=0.2.1 in e:\\cse299\\chatbot\\venv\\lib\\site-packages (from google-auth>=1.0.1->kubernetes>=28.1.0->chromadb->-r requiremnets.txt (line 7)) (0.4.1)\n",
      "Requirement already satisfied: rsa<5,>=3.1.4 in e:\\cse299\\chatbot\\venv\\lib\\site-packages (from google-auth>=1.0.1->kubernetes>=28.1.0->chromadb->-r requiremnets.txt (line 7)) (4.9)\n",
      "Requirement already satisfied: zipp>=0.5 in e:\\cse299\\chatbot\\venv\\lib\\site-packages (from importlib-metadata<=8.4.0,>=6.0->opentelemetry-api>=1.2.0->chromadb->-r requiremnets.txt (line 7)) (3.20.2)\n",
      "Requirement already satisfied: jsonpointer>=1.9 in e:\\cse299\\chatbot\\venv\\lib\\site-packages (from jsonpatch<2.0,>=1.33->langchain-core<0.4.0,>=0.3.0->langchain->-r requiremnets.txt (line 1)) (3.0.0)\n",
      "Requirement already satisfied: markdown-it-py>=2.2.0 in e:\\cse299\\chatbot\\venv\\lib\\site-packages (from rich>=10.11.0->typer>=0.9.0->chromadb->-r requiremnets.txt (line 7)) (3.0.0)\n",
      "Requirement already satisfied: pygments<3.0.0,>=2.13.0 in e:\\cse299\\chatbot\\venv\\lib\\site-packages (from rich>=10.11.0->typer>=0.9.0->chromadb->-r requiremnets.txt (line 7)) (2.18.0)\n",
      "Requirement already satisfied: mypy-extensions>=0.3.0 in e:\\cse299\\chatbot\\venv\\lib\\site-packages (from typing-inspect<1,>=0.4.0->dataclasses-json<0.7,>=0.5.7->langchain-community->-r requiremnets.txt (line 2)) (1.0.0)\n",
      "Requirement already satisfied: humanfriendly>=9.1 in e:\\cse299\\chatbot\\venv\\lib\\site-packages (from coloredlogs->onnxruntime>=1.14.1->chromadb->-r requiremnets.txt (line 7)) (10.0)\n",
      "Requirement already satisfied: pyreadline3 in e:\\cse299\\chatbot\\venv\\lib\\site-packages (from humanfriendly>=9.1->coloredlogs->onnxruntime>=1.14.1->chromadb->-r requiremnets.txt (line 7)) (3.4.3)\n",
      "Requirement already satisfied: mdurl~=0.1 in e:\\cse299\\chatbot\\venv\\lib\\site-packages (from markdown-it-py>=2.2.0->rich>=10.11.0->typer>=0.9.0->chromadb->-r requiremnets.txt (line 7)) (0.1.2)\n",
      "Requirement already satisfied: pyasn1<0.7.0,>=0.4.6 in e:\\cse299\\chatbot\\venv\\lib\\site-packages (from pyasn1-modules>=0.2.1->google-auth>=1.0.1->kubernetes>=28.1.0->chromadb->-r requiremnets.txt (line 7)) (0.6.1)\n",
      "Note: you may need to restart the kernel to use updated packages.\n"
     ]
    }
   ],
   "source": [
    "%pip install -r requiremnets.txt"
   ]
  },
  {
   "cell_type": "code",
   "execution_count": 2,
   "metadata": {},
   "outputs": [
    {
     "name": "stdout",
     "output_type": "stream",
     "text": [
      "Requirement already satisfied: einops in e:\\cse299\\chatbot\\venv\\lib\\site-packages (0.8.0)\n",
      "Note: you may need to restart the kernel to use updated packages.\n"
     ]
    }
   ],
   "source": [
    "%pip install einops"
   ]
  },
  {
   "cell_type": "markdown",
   "metadata": {},
   "source": [
    "## Path"
   ]
  },
  {
   "cell_type": "code",
   "execution_count": 3,
   "metadata": {},
   "outputs": [],
   "source": [
    "# Set paths in your notebook\n",
    "model_path = r\"E:/CSE299/chatbot/llm\"\n",
    "embedding_save_path = r\"E:/CSE299/chatbot/Embedding\"\n",
    "pdfs_path = r\"E:/CSE299/chatbot/docs\""
   ]
  },
  {
   "cell_type": "markdown",
   "metadata": {},
   "source": [
    "## Import Dependencies"
   ]
  },
  {
   "cell_type": "code",
   "execution_count": 4,
   "metadata": {
    "id": "tBCONJnCRW2_"
   },
   "outputs": [],
   "source": [
    "from langchain_community.document_loaders import PyPDFDirectoryLoader\n",
    "from langchain_text_splitters import RecursiveCharacterTextSplitter\n",
    "from langchain_chroma import Chroma\n",
    "from langchain_community.embeddings.ollama import OllamaEmbeddings\n",
    "from langchain_community.llms.ollama import Ollama\n",
    "from langchain import hub\n",
    "from langchain_core.output_parsers import StrOutputParser\n",
    "from langchain_core.runnables import RunnablePassthrough\n"
   ]
  },
  {
   "cell_type": "markdown",
   "metadata": {},
   "source": [
    "## Chunking Functions & PDF loading"
   ]
  },
  {
   "cell_type": "markdown",
   "metadata": {},
   "source": [
    "Load the PDF of the Book."
   ]
  },
  {
   "cell_type": "code",
   "execution_count": 8,
   "metadata": {
    "id": "7znFTCZ7RkuK"
   },
   "outputs": [],
   "source": [
    "#@title Function to load all PDFs from a given directory using PyPDFDirectoryLoader.\n",
    "\n",
    "def load_pdfs_from_directory(directory_path):\n",
    "\n",
    "    loader = PyPDFDirectoryLoader(directory_path)\n",
    "    docs = loader.load()\n",
    "    return docs\n"
   ]
  },
  {
   "cell_type": "markdown",
   "metadata": {},
   "source": [
    "### Recursive Chunking"
   ]
  },
  {
   "cell_type": "code",
   "execution_count": 9,
   "metadata": {
    "id": "a8QgoYoxSO-_"
   },
   "outputs": [],
   "source": [
    "#@title recursive Chuking of the documents\n",
    "\n",
    "def recursive_chunks(documents, chunk_size, chunk_overlap):\n",
    "\n",
    "    text_splitter = RecursiveCharacterTextSplitter(chunk_size=chunk_size, chunk_overlap=chunk_overlap, add_start_index=True)\n",
    "    all_splits = text_splitter.split_documents(documents)\n",
    "\n",
    "    return all_splits"
   ]
  },
  {
   "cell_type": "markdown",
   "metadata": {},
   "source": [
    "### Character Chunking"
   ]
  },
  {
   "cell_type": "code",
   "execution_count": 7,
   "metadata": {
    "id": "mBHvCyMk6Vhw"
   },
   "outputs": [],
   "source": [
    "#@title character Chuking of the documents\n",
    "from langchain_text_splitters import CharacterTextSplitter\n",
    "\n",
    "def character_chunks(documents, chunk_size, chunk_overlap):\n",
    "\n",
    "    # Initialize the CharacterTextSplitter with specified parameters\n",
    "    splitter = CharacterTextSplitter(\n",
    "        separator=\"\\n\\n\",\n",
    "        chunk_size=chunk_size,\n",
    "        chunk_overlap=chunk_overlap,\n",
    "        length_function=len,\n",
    "        is_separator_regex=False,\n",
    "    )\n",
    "\n",
    "    # Split the text into chunks for each document\n",
    "    # all_chunks = []\n",
    "    # for doc in documents:\n",
    "    #     # Split each document's content and extend the list\n",
    "    #     chunks = splitter.split_text(doc.page_content)\n",
    "    #     all_chunks.extend(chunks)\n",
    "    all_chunks = splitter.split_documents(documents)\n",
    "\n",
    "    return all_chunks\n",
    "\n"
   ]
  },
  {
   "cell_type": "markdown",
   "metadata": {},
   "source": [
    "### Semantic Chunking"
   ]
  },
  {
   "cell_type": "code",
   "execution_count": null,
   "metadata": {
    "id": "D7rmuGHEaKoA"
   },
   "outputs": [],
   "source": [
    "#@title semantic Chuking of the documents\n",
    "from langchain_experimental.text_splitter import SemanticChunker\n",
    "\n",
    "def semantic_chunks(documents, embed_model):\n",
    "\n",
    "    semantic_chunker = SemanticChunker(embed_model, breakpoint_threshold_type=\"percentile\")\n",
    "\n",
    "    # Create semantic chunks from the documents' content\n",
    "    semantic_chunks = semantic_chunker.create_documents([d.page_content for d in documents])\n",
    "\n",
    "    return semantic_chunks\n"
   ]
  },
  {
   "cell_type": "markdown",
   "metadata": {},
   "source": [
    "## Intializing Models"
   ]
  },
  {
   "cell_type": "markdown",
   "metadata": {},
   "source": [
    "Embedding Model"
   ]
  },
  {
   "cell_type": "code",
   "execution_count": 5,
   "metadata": {
    "id": "dWFcj5XSp1Ka"
   },
   "outputs": [],
   "source": [
    "from langchain_huggingface import HuggingFaceEmbeddings\n",
    "\n",
    "\n",
    "def get_embedding_model(model_name, model_kwargs, path):\n",
    "    encode_kwargs = {'normalize_embeddings': True}\n",
    "\n",
    "    # Initialize HuggingFaceEmbeddings with model name and kwargs\n",
    "    hf = HuggingFaceEmbeddings(\n",
    "        model_name=model_name,\n",
    "        model_kwargs=model_kwargs,\n",
    "        encode_kwargs=encode_kwargs,\n",
    "        cache_folder=path\n",
    "    )\n",
    "\n",
    "    return hf"
   ]
  },
  {
   "cell_type": "markdown",
   "metadata": {},
   "source": [
    "LLM (Ollama model)"
   ]
  },
  {
   "cell_type": "code",
   "execution_count": 7,
   "metadata": {},
   "outputs": [
    {
     "name": "stdout",
     "output_type": "stream",
     "text": [
      "Ollama is starting...\n"
     ]
    }
   ],
   "source": [
    "from langchain_community.llms.ollama import Ollama\n",
    "import subprocess\n",
    "import os\n",
    "# Function to stream output of the subprocess\n",
    "def stream_output(process):\n",
    "    for line in process.stdout:\n",
    "        print(line, end='')  # Output is already a string, so no need to decode\n",
    "\n",
    "# Function to start Ollama\n",
    "def start_ollama():\n",
    "    try:\n",
    "        # Redirect stdout and stderr to os.devnull\n",
    "        with open(os.devnull, 'w') as devnull:\n",
    "            ollama_process = subprocess.Popen(\n",
    "                [\"ollama\", \"serve\"], \n",
    "                stdout=devnull,  # Discard stdout\n",
    "                stderr=devnull,  # Discard stderr\n",
    "                shell=True       # Required for Windows\n",
    "            )\n",
    "            print(\"Ollama is starting...\", flush=True)\n",
    "            return ollama_process\n",
    "    except Exception as e:\n",
    "        print(f\"Error starting Ollama: {e}\", flush=True)\n",
    "        return None\n",
    "\n",
    "\n",
    "\n",
    "# When Backend starts\n",
    "ollama_process = start_ollama()"
   ]
  },
  {
   "cell_type": "markdown",
   "metadata": {},
   "source": [
    "Check Kernel Path of the Notebook."
   ]
  },
  {
   "cell_type": "code",
   "execution_count": 8,
   "metadata": {},
   "outputs": [
    {
     "data": {
      "text/plain": [
       "'e:\\\\CSE299\\\\chatbot\\\\rag_tests'"
      ]
     },
     "execution_count": 8,
     "metadata": {},
     "output_type": "execute_result"
    }
   ],
   "source": [
    "import os\n",
    "os.getcwd()\n"
   ]
  },
  {
   "cell_type": "markdown",
   "metadata": {},
   "source": [
    "Initialize Ollama Model."
   ]
  },
  {
   "cell_type": "code",
   "execution_count": 9,
   "metadata": {
    "id": "OkLniAhdCQS3"
   },
   "outputs": [],
   "source": [
    "# @title get Ollama model\n",
    "\n",
    "from langchain_community.llms import Ollama\n",
    "\n",
    "def get_ollama_model(model):\n",
    "    llm = Ollama(model=model)\n",
    "    return llm\n"
   ]
  },
  {
   "cell_type": "markdown",
   "metadata": {},
   "source": [
    "#  Embedding "
   ]
  },
  {
   "cell_type": "code",
   "execution_count": 10,
   "metadata": {},
   "outputs": [
    {
     "name": "stdout",
     "output_type": "stream",
     "text": [
      "Requirement already satisfied: transformers in e:\\cse299\\chatbot\\venv\\lib\\site-packages (4.45.2)\n",
      "Requirement already satisfied: filelock in e:\\cse299\\chatbot\\venv\\lib\\site-packages (from transformers) (3.16.0)\n",
      "Requirement already satisfied: huggingface-hub<1.0,>=0.23.2 in e:\\cse299\\chatbot\\venv\\lib\\site-packages (from transformers) (0.24.7)\n",
      "Requirement already satisfied: numpy>=1.17 in e:\\cse299\\chatbot\\venv\\lib\\site-packages (from transformers) (1.26.4)\n",
      "Requirement already satisfied: packaging>=20.0 in e:\\cse299\\chatbot\\venv\\lib\\site-packages (from transformers) (24.1)\n",
      "Requirement already satisfied: pyyaml>=5.1 in e:\\cse299\\chatbot\\venv\\lib\\site-packages (from transformers) (6.0.2)\n",
      "Requirement already satisfied: regex!=2019.12.17 in e:\\cse299\\chatbot\\venv\\lib\\site-packages (from transformers) (2024.9.11)\n",
      "Requirement already satisfied: requests in e:\\cse299\\chatbot\\venv\\lib\\site-packages (from transformers) (2.32.3)\n",
      "Requirement already satisfied: safetensors>=0.4.1 in e:\\cse299\\chatbot\\venv\\lib\\site-packages (from transformers) (0.4.5)\n",
      "Requirement already satisfied: tokenizers<0.21,>=0.20 in e:\\cse299\\chatbot\\venv\\lib\\site-packages (from transformers) (0.20.1)\n",
      "Requirement already satisfied: tqdm>=4.27 in e:\\cse299\\chatbot\\venv\\lib\\site-packages (from transformers) (4.66.5)\n",
      "Requirement already satisfied: fsspec>=2023.5.0 in e:\\cse299\\chatbot\\venv\\lib\\site-packages (from huggingface-hub<1.0,>=0.23.2->transformers) (2024.9.0)\n",
      "Requirement already satisfied: typing-extensions>=3.7.4.3 in e:\\cse299\\chatbot\\venv\\lib\\site-packages (from huggingface-hub<1.0,>=0.23.2->transformers) (4.12.2)\n",
      "Requirement already satisfied: colorama in e:\\cse299\\chatbot\\venv\\lib\\site-packages (from tqdm>=4.27->transformers) (0.4.6)\n",
      "Requirement already satisfied: charset-normalizer<4,>=2 in e:\\cse299\\chatbot\\venv\\lib\\site-packages (from requests->transformers) (3.3.2)\n",
      "Requirement already satisfied: idna<4,>=2.5 in e:\\cse299\\chatbot\\venv\\lib\\site-packages (from requests->transformers) (3.8)\n",
      "Requirement already satisfied: urllib3<3,>=1.21.1 in e:\\cse299\\chatbot\\venv\\lib\\site-packages (from requests->transformers) (2.2.3)\n",
      "Requirement already satisfied: certifi>=2017.4.17 in e:\\cse299\\chatbot\\venv\\lib\\site-packages (from requests->transformers) (2024.8.30)\n",
      "Note: you may need to restart the kernel to use updated packages.\n"
     ]
    }
   ],
   "source": [
    "%pip install transformers"
   ]
  },
  {
   "cell_type": "markdown",
   "metadata": {},
   "source": [
    "Initilize the embedding model"
   ]
  },
  {
   "cell_type": "markdown",
   "metadata": {},
   "source": [
    "- Change the **'device' : 'cuda'** if GPU is available.\n",
    "- **embedding_model_save_path** : Local path of the embedding model (where it will be installed and run from). \n",
    "- **embedding_model_name** : At the beggining of this notebook you'll find 4 different model path.<br/>\n",
    " You can also use other Embedding models from HuggingFace website.\n",
    "- You can find Embedding Model of your task from **MTEB Leaderboard**: [Massive Text Embedding Benchmark](https://huggingface.co/spaces/mteb/leaderboard)\\\n",
    "'Embedding Models Dimension Must match Ollama Model's Dimension.'\n",
    "\n"
   ]
  },
  {
   "cell_type": "code",
   "execution_count": 11,
   "metadata": {},
   "outputs": [
    {
     "name": "stderr",
     "output_type": "stream",
     "text": [
      "e:\\CSE299\\chatbot\\venv\\Lib\\site-packages\\tqdm\\auto.py:21: TqdmWarning: IProgress not found. Please update jupyter and ipywidgets. See https://ipywidgets.readthedocs.io/en/stable/user_install.html\n",
      "  from .autonotebook import tqdm as notebook_tqdm\n"
     ]
    }
   ],
   "source": [
    "# import os\n",
    "from transformers import AutoModel\n",
    "\n",
    "\n",
    "embedding_model_save_path = r\"E:\\CSE299\\chatbot\\llm\\mpnet\"\n",
    "\n",
    "\n",
    "\n",
    "embedding_model_name = \"sentence-transformers/all-mpnet-base-v2\"\n",
    "model_kwargs = {'device': 'cpu', 'trust_remote_code': True}\n",
    "\n",
    "# Assuming get_embedding_model is defined to support a 'path' argument for saving locally\n",
    "embedding = get_embedding_model(embedding_model_name, model_kwargs, path=embedding_model_save_path)"
   ]
  },
  {
   "cell_type": "markdown",
   "metadata": {},
   "source": [
    "Dimension"
   ]
  },
  {
   "cell_type": "code",
   "execution_count": 12,
   "metadata": {},
   "outputs": [
    {
     "name": "stdout",
     "output_type": "stream",
     "text": [
      "Embedding Dimension: 768\n"
     ]
    }
   ],
   "source": [
    "# Access the underlying model from the HuggingFaceEmbeddings instance\n",
    "hf_model = embedding.client  # 'client' holds the underlying Hugging Face model\n",
    "\n",
    "# Get the embedding dimension using the dedicated method\n",
    "embedding_dim = hf_model.get_sentence_embedding_dimension()\n",
    "\n",
    "# Print the embedding dimension\n",
    "print(f\"Embedding Dimension: {embedding_dim}\")"
   ]
  },
  {
   "cell_type": "markdown",
   "metadata": {},
   "source": [
    "## Make Chunks "
   ]
  },
  {
   "cell_type": "markdown",
   "metadata": {},
   "source": [
    "- Choose one of the Chunking Function."
   ]
  },
  {
   "cell_type": "code",
   "execution_count": 21,
   "metadata": {
    "id": "w3sqNNKfS7_B"
   },
   "outputs": [],
   "source": [
    "# #@title chunking\n",
    "\n",
    "docs = load_pdfs_from_directory(pdfs_path)\n",
    "\n",
    "# all_splits = recursive_chunks(docs, 1000, 200)\n",
    "# all_splits = semantic_chunks(docs, sem_embedding)\n",
    "# all_splits = character_chunks(docs, 1000, 200)"
   ]
  },
  {
   "cell_type": "markdown",
   "metadata": {},
   "source": [
    "**Making new vector database with the splits(chunks).** <br/>\n",
    "To make the Embedding Vector Database run the following Cell. <br/>\n",
    "(If already exists skip it & run the next cell to initialize.)"
   ]
  },
  {
   "cell_type": "code",
   "execution_count": 45,
   "metadata": {
    "colab": {
     "base_uri": "https://localhost:8080/",
     "height": 193
    },
    "id": "TRnu-wXpC9eg",
    "outputId": "a24647cc-97a2-4414-c6e8-c627a0d36890"
   },
   "outputs": [],
   "source": [
    "# #@title dbstore\n",
    "# embedding_vector_db_path = r\"E:\\CSE299\\chatbot\\Embedding\\miniml\\recursive\"\n",
    "# #vectorstoring\n",
    "# vectorstore = Chroma.from_documents(documents = all_splits, embedding = embedding, persist_directory=embedding_vector_db_path)\n",
    "# retriever = vectorstore.as_retriever(search_type = \"similarity\", search_kwargs = {\"k\" : 6})\n"
   ]
  },
  {
   "cell_type": "markdown",
   "metadata": {
    "id": "rIax-u7dteI-"
   },
   "source": [
    "# Existing Vector DB load"
   ]
  },
  {
   "cell_type": "code",
   "execution_count": 13,
   "metadata": {},
   "outputs": [],
   "source": [
    "from langchain_chroma import Chroma\n",
    "embedding_vector_db_path = r\"E:\\CSE299\\chatbot\\Embedding\\mpnet\\recursive\"\n",
    "\n",
    "vectorstore = Chroma(persist_directory=embedding_vector_db_path, embedding_function=embedding)\n",
    "\n",
    "retriever = vectorstore.as_retriever(search_type=\"similarity\", search_kwargs={\"k\": 6})"
   ]
  },
  {
   "cell_type": "markdown",
   "metadata": {},
   "source": [
    "To run in Google Colab"
   ]
  },
  {
   "cell_type": "code",
   "execution_count": null,
   "metadata": {
    "id": "vwEXPtmGltXK"
   },
   "outputs": [],
   "source": [
    "# from langchain.vectorstores import Chroma\n",
    "\n",
    "# # Load existing vector store (you don't need to recreate it)\n",
    "# vectorstore = Chroma(persist_directory='db/nomic/semantic/',embedding_function=embedding)\n",
    "# retriever = vectorstore.as_retriever(search_type=\"similarity\", search_kwargs={\"k\": 6})\n"
   ]
  },
  {
   "cell_type": "markdown",
   "metadata": {},
   "source": [
    "Prompt"
   ]
  },
  {
   "cell_type": "code",
   "execution_count": 14,
   "metadata": {
    "id": "APr4HNY9pHg6"
   },
   "outputs": [],
   "source": [
    "#@title prompt template\n",
    "\n",
    "PROMPT_TEMPLATE = \"\"\"\n",
    "Use the following context to answer the question clearly and simply:\n",
    "{context}\n",
    "Answer the question based on the above context: {question}.\n",
    "Provide a detailed answer.\n",
    "Do not justify your answers.\n",
    "Please explain using simple language, relevant examples, and avoid jargon.\n",
    "\"\"\"\n",
    "\n"
   ]
  },
  {
   "cell_type": "markdown",
   "metadata": {},
   "source": [
    "Test if the Olllam Models runs in this notebook kernel."
   ]
  },
  {
   "cell_type": "code",
   "execution_count": 15,
   "metadata": {
    "id": "0uJJCPCKPrDs"
   },
   "outputs": [],
   "source": [
    "llm = get_ollama_model(\"llama3.2:1b\")\n",
    "# prompt = process_query(\"explain newtons first law with example\")\n",
    "# response = llm(prompt)\n",
    "# print(response)\n"
   ]
  },
  {
   "cell_type": "code",
   "execution_count": 16,
   "metadata": {
    "colab": {
     "base_uri": "https://localhost:8080/",
     "height": 139
    },
    "id": "pw-q37-1O5yQ",
    "outputId": "f84b3bb3-7bab-47ee-8847-2df9677ddc2e"
   },
   "outputs": [
    {
     "data": {
      "text/plain": [
       "'Newton\\'s First Law of Motion, also known as the Law of Inertia, is a fundamental concept in physics that describes the behavior of objects at rest or in motion. It states:\\n\\n**\"An object at rest will remain at rest, and an object in motion will continue to move with a constant velocity, unless acted upon by an external force.\"**\\n\\nIn simpler terms, this law says that:\\n\\n* If an object is not moving (at rest), it will stay at rest.\\n* If an object is already moving (in motion), it will keep moving with the same speed and direction unless:\\n* An external force acts on the object.\\n\\nLet\\'s consider an example to illustrate this concept:\\n\\n**Example: A Ball Rolling Down a Hill**\\n\\nImagine you\\'re standing near a hill, and you throw a ball down the slope. What happens? The ball will roll down the hill, but it will continue to move until something stops it.\\n\\nThe key point here is that the ball is initially at rest (not moving). However, as soon as it\\'s thrown down the hill, an external force (the frictional force from the ground) acts on it. This force slows down or stops the ball\\'s motion.\\n\\nIf you were to remove the external force, the ball would continue to roll down the hill until some other object comes along and provides an external force to stop it. For example, if a friend throws the ball back up the hill, the ball will stop rolling down the hill because there\\'s no longer any external force acting on it.\\n\\n**Key takeaways:**\\n\\n* An object at rest remains at rest unless acted upon by an external force.\\n* An object in motion continues to move with a constant velocity unless acted upon by an external force.\\n* The law applies to all objects, regardless of their mass or size.'"
      ]
     },
     "execution_count": 16,
     "metadata": {},
     "output_type": "execute_result"
    }
   ],
   "source": [
    "llm.invoke(\"explain newtons first law with example\")"
   ]
  },
  {
   "cell_type": "code",
   "execution_count": 17,
   "metadata": {
    "colab": {
     "base_uri": "https://localhost:8080/"
    },
    "id": "WZ5xnvObmHDl",
    "outputId": "c87a703a-d1de-4394-b6fe-99dd1120bb76"
   },
   "outputs": [
    {
     "name": "stdout",
     "output_type": "stream",
     "text": [
      "Centrifugal force is a type of force that pulls something away from its center. Imagine you're sitting in a circle on the floor, spinning around it. You might feel like you want to get out of the circle because you don't want to move towards the center where everyone else is.\n",
      "\n",
      "The reason for this feeling is centrifugal force. It's as if your body is being pulled away from the middle point of the circle, making you want to move in that direction. This happens because there are more people in the outer parts of the circle than in the middle, so they exert a greater pull on each other.\n",
      "\n",
      "For example, when you're riding a bike and going around a corner, centrifugal force makes your body feel like it's being pulled away from the center of the turn. It's not because you want to go that way, but because there are more people in front of you making the force stronger.\n",
      "\n",
      "Centrifugal force can be seen in many things, like when you're spinning around a central point or when a car is moving in a circular path. In all these cases, centrifugal force is at work, pulling us away from the center and making us feel like we want to move in that direction."
     ]
    }
   ],
   "source": [
    "# from langchain_community.vectorstores import FAISS\n",
    "from langchain_core.output_parsers import StrOutputParser\n",
    "from langchain_core.prompts import ChatPromptTemplate\n",
    "from langchain_core.runnables import RunnablePassthrough\n",
    "\n",
    "llm = get_ollama_model(\"gemma2:2b\")\n",
    "\n",
    "prompt = ChatPromptTemplate.from_template(PROMPT_TEMPLATE)\n",
    "\n",
    "retrieval_chain = (\n",
    "    {\"context\": retriever, \"question\": RunnablePassthrough()}\n",
    "    | prompt\n",
    "    | llm\n",
    "    | StrOutputParser()\n",
    ")\n",
    "\n",
    "for chunk in retrieval_chain.stream(\"explain centrufugal force with example\"):\n",
    "    print(chunk, end=\"\", flush=True)"
   ]
  },
  {
   "cell_type": "markdown",
   "metadata": {},
   "source": [
    "Check Retriver of the Vector Database works."
   ]
  },
  {
   "cell_type": "code",
   "execution_count": 18,
   "metadata": {},
   "outputs": [
    {
     "name": "stdout",
     "output_type": "stream",
     "text": [
      "{'page': 57, 'source': 'data/Physics Classes 9-10 (English Version) - National Curriculum and Textbook Board of Bangladesh - PDF Room.pdf', 'start_index': 824} to gravity. Here, the force of gravity or weight of the \n",
      "object is the unbalanced force. If the body is displaced slightly along one side, the tension of the \n",
      "thread T and the weight W will not be in a straight \n",
      "line. Then a resultant force will act on the body without creating balanced condition. Due to this, the \n",
      "body will oscillate. This is an example of unbalanced \n",
      "force. \n",
      "Another example of balanced and unbalanced forces \n",
      "can be seen in the game of tug-of-war competition. In this game, a handkerchief is tied to the center of the rope. In this competition equal \n",
      "numbers of competitors pull on the rope in two sides and try to move the handkerchief to \n",
      "their side. If the handkerchief does not move then it is understood that either the team are applying equal amount of force and the rope or the handkerchief is in balanced \n",
      "condition. Here, forces applied by the two teams are balanced forces.\n",
      "{'page': 52, 'source': 'data/Physics Classes 9-10 (English Version) - National Curriculum and Textbook Board of Bangladesh - PDF Room.pdf', 'start_index': 0} 48  Physics \n",
      "Chapter three \n",
      "FORCE \n",
      " \n",
      " \n",
      "[Sir Isaac Newton has done a lot of research about the motion of an object. He expressed \n",
      "the fundamental principles of motion by three laws. In this chapter we shall discuss about these laws of motion. In addition, the in ertia of a object, force, nature of force, \n",
      "momentum, friction and safe journey will also be discussed.] \n",
      "By the end of this chapter we will be able to- \n",
      "1. Explain the inertia of an object and qualitative concept of force applying Newton’s \n",
      "first law of motion.  \n",
      "2. Explain the nature of different types of forces. \n",
      "3. Explain the influence of balanced and unbalanced forces. \n",
      "4. Explain the momentum and collision of objects. \n",
      "5. Analyze the influence of force on motion and shape of an object. \n",
      "6. Measure the force by applying Newton’s second law of motion. \n",
      "7. Explain the action and reaction force by applying Newton’s third law of motion.  \n",
      "8. Analyze the influence of motion and force on safe travelling.\n",
      "{'page': 59, 'source': 'data/Physics Classes 9-10 (English Version) - National Curriculum and Textbook Board of Bangladesh - PDF Room.pdf', 'start_index': 0} Physics  55 \n",
      "before or give a brake? You have to apply brake to cross this sloping road safely. Due to \n",
      "this, the cycle decelerates.  \n",
      "A force can cause a moving object to chan ge its velocity or direction of motion. \n",
      "A batsman hits the cricket ball coming from opposite direction during a game of cricket. \n",
      "Due to the hit, the magnitude and direction of the velocity of the ball change. The ball moves in a different direction due to this hit by the bat. In this case too, the ball has \n",
      "acceleration.  \n",
      "Effect of forces on shape  \n",
      "There are many examples around us where the shape of a body changes by the \n",
      "application of force. The shape of an empty plastic bottle changes when it is pressed. Again when a rubber band is stretched by pulling it, it becomes narrow and its shape \n",
      "changes.  \n",
      "Sometimes, the changes of shape of the bodies are temporary in nature. Sometimes, the \n",
      "shape of the object is permanently changed due to the application of force. Such changes\n",
      "{'page': 33, 'source': 'data/Physics Classes 9-10 (English Version) - National Curriculum and Textbook Board of Bangladesh - PDF Room.pdf', 'start_index': 807} Rotational motion : When a body rotates around a particular point or an axis keeping \n",
      "the distance of the particles of the body unchanged is called rotational motion. For \n",
      "example, motion of an electric fan, motion of the heads of a clock.  \n",
      "Rectilinear motion : When a body moves along a straight line in such a way that each \n",
      "particle of the body travels the same distance at the same time in the same direction.  \n",
      "If a book is pushed to shift from one end to the other of a table without rotation, the \n",
      "motion will be rectilinear because all the particles of the book travel the equal distance, \n",
      "at equal time in the same direction.  \n",
      "Periodic motion : If the motion of a moving particle is such that it passes through a \n",
      "definite point along the path of its motion in th e same direction in a definite interval of \n",
      "time, this type of motion is called periodic motion. This motion can be circular, elliptical\n",
      "{'page': 55, 'source': 'data/Physics Classes 9-10 (English Version) - National Curriculum and Textbook Board of Bangladesh - PDF Room.pdf', 'start_index': 1441} poles of two magnets, the force of attrac tion acting between a magnet and a magnetic \n",
      "material are the examples of non-contact force or distant force.  \n",
      "Do yourself:   Release a pen or pencil or any object from your hand. \n",
      "The body will fall down. Something is pulli ng the body downward certainly. Who is \n",
      "pulling?  Here, the earth is pulling the body towards it, though there is no direct \n",
      "connection between the body and the earth i.e. the earth is not in contact with the body. \n",
      "Here the earth is applying force of gravitation on the body. The force of gravitation is a non-contact force. Any two body of the univers e exert force of gravitation on each other. \n",
      "When the earth exerts force of gravitation on another body, then this force is called \n",
      "gravity. \n",
      "Though we observe different kinds of force in nature, fundamental force are of four\n",
      "{'page': 53, 'source': 'data/Physics Classes 9-10 (English Version) - National Curriculum and Textbook Board of Bangladesh - PDF Room.pdf', 'start_index': 1692} is large.  \n",
      "Do yourself \n",
      "• Keep a pen and a book on a table. Now st rike the pen with finger. What do you \n",
      "observe? The pen moved a small distance on the table.  \n",
      "• Now repeat this procedure for the book. The book won’t move. Now push the book \n",
      "with your hand. The book will be displaced from its original position.  \n",
      "Between the pen and the book, it needs more effort to move the book as the mass i.e. the \n",
      "inertia of the book is greater. \n",
      "Example of inertia \n",
      "If a bus at rest suddenly starts moving the passengers lean backwards. The reason behind \n",
      "this is inertia. When the bus is at rest, the bodies of the passengers are also at rest. When \n",
      "the bus starts moving, the part of the passenger’s body attached to the bus also moves \n",
      "with it. But the upper part of the body tends to remain stationary due to inertia of rest.\n"
     ]
    },
    {
     "name": "stderr",
     "output_type": "stream",
     "text": [
      "C:\\Users\\Asus\\AppData\\Local\\Temp\\ipykernel_20944\\265552595.py:2: LangChainDeprecationWarning: The method `BaseRetriever.get_relevant_documents` was deprecated in langchain-core 0.1.46 and will be removed in 1.0. Use :meth:`~invoke` instead.\n",
      "  retrieved_docs = retriever.get_relevant_documents(\"explain centrifugal force with example\")\n"
     ]
    }
   ],
   "source": [
    "# Get the retrieved documents and print them\n",
    "retrieved_docs = retriever.get_relevant_documents(\"explain centrifugal force with example\")\n",
    "\n",
    "# Print the retrieved documents\n",
    "for doc in retrieved_docs:\n",
    "    print(doc.metadata, doc.page_content)  # Or just doc.page_content if metadata is not needed"
   ]
  },
  {
   "cell_type": "markdown",
   "metadata": {
    "id": "7AGr6eodunRp"
   },
   "source": [
    "# Recall + Quality"
   ]
  },
  {
   "cell_type": "code",
   "execution_count": 46,
   "metadata": {
    "id": "74ScZKCyuUXp"
   },
   "outputs": [],
   "source": [
    "# import time\n",
    "# import numpy as np\n",
    "# from sklearn.metrics.pairwise import cosine_similarity\n",
    "\n",
    "# # Embedding size - assuming you are using the 'embedding_function' from Chroma\n",
    "# embedding_size = embedding_dim  # For transformers-based models\n",
    "\n",
    "# # Step 1: Measure recall time of chunks\n",
    "# start_time = time.time()\n",
    "# retrieved_docs = retriever.get_relevant_documents(\"explain newtons first law with example\")\n",
    "# end_time = time.time()\n",
    "\n",
    "# recall_time = end_time - start_time\n",
    "# print(f\"Recall time: {recall_time:.4f} seconds\")\n",
    "\n",
    "# # Step 2: Calculate embedding quality (Cosine similarity)\n",
    "# def calculate_embedding_quality(query_embedding, retrieved_embeddings):\n",
    "#     # Calculate cosine similarity between the query embedding and the retrieved embeddings\n",
    "#     similarities = cosine_similarity([query_embedding], retrieved_embeddings)\n",
    "\n",
    "#     # Average similarity score\n",
    "#     avg_similarity = np.mean(similarities)\n",
    "#     return avg_similarity\n",
    "\n",
    "# # Simulating query embedding and retrieved embeddings for this example\n",
    "# query_embedding = embedding.embed_query(\"explain newtons first law with example\")\n",
    "# retrieved_embeddings = [doc.embedding for doc in retrieved_docs]\n",
    "\n",
    "# # Step 3: Calculate embedding quality\n",
    "# embedding_quality = calculate_embedding_quality(query_embedding, retrieved_embeddings)\n",
    "# print(f\"Embedding Quality (Average Cosine Similarity): {embedding_quality:.4f}\")\n"
   ]
  }
 ],
 "metadata": {
  "colab": {
   "provenance": []
  },
  "kernelspec": {
   "display_name": "venv",
   "language": "python",
   "name": "python3"
  },
  "language_info": {
   "codemirror_mode": {
    "name": "ipython",
    "version": 3
   },
   "file_extension": ".py",
   "mimetype": "text/x-python",
   "name": "python",
   "nbconvert_exporter": "python",
   "pygments_lexer": "ipython3",
   "version": "3.11.2"
  },
  "widgets": {
   "application/vnd.jupyter.widget-state+json": {
    "1789b8c51c4b48118e34ffedce61dd47": {
     "model_module": "@jupyter-widgets/controls",
     "model_module_version": "1.5.0",
     "model_name": "DescriptionStyleModel",
     "state": {
      "_model_module": "@jupyter-widgets/controls",
      "_model_module_version": "1.5.0",
      "_model_name": "DescriptionStyleModel",
      "_view_count": null,
      "_view_module": "@jupyter-widgets/base",
      "_view_module_version": "1.2.0",
      "_view_name": "StyleView",
      "description_width": ""
     }
    },
    "56aec4fb098b461cabab190b64dd9373": {
     "model_module": "@jupyter-widgets/controls",
     "model_module_version": "1.5.0",
     "model_name": "DescriptionStyleModel",
     "state": {
      "_model_module": "@jupyter-widgets/controls",
      "_model_module_version": "1.5.0",
      "_model_name": "DescriptionStyleModel",
      "_view_count": null,
      "_view_module": "@jupyter-widgets/base",
      "_view_module_version": "1.2.0",
      "_view_name": "StyleView",
      "description_width": ""
     }
    },
    "7119cc97380a473f88c28732b2c0b484": {
     "model_module": "@jupyter-widgets/base",
     "model_module_version": "1.2.0",
     "model_name": "LayoutModel",
     "state": {
      "_model_module": "@jupyter-widgets/base",
      "_model_module_version": "1.2.0",
      "_model_name": "LayoutModel",
      "_view_count": null,
      "_view_module": "@jupyter-widgets/base",
      "_view_module_version": "1.2.0",
      "_view_name": "LayoutView",
      "align_content": null,
      "align_items": null,
      "align_self": null,
      "border": null,
      "bottom": null,
      "display": null,
      "flex": null,
      "flex_flow": null,
      "grid_area": null,
      "grid_auto_columns": null,
      "grid_auto_flow": null,
      "grid_auto_rows": null,
      "grid_column": null,
      "grid_gap": null,
      "grid_row": null,
      "grid_template_areas": null,
      "grid_template_columns": null,
      "grid_template_rows": null,
      "height": null,
      "justify_content": null,
      "justify_items": null,
      "left": null,
      "margin": null,
      "max_height": null,
      "max_width": null,
      "min_height": null,
      "min_width": null,
      "object_fit": null,
      "object_position": null,
      "order": null,
      "overflow": null,
      "overflow_x": null,
      "overflow_y": null,
      "padding": null,
      "right": null,
      "top": null,
      "visibility": null,
      "width": null
     }
    },
    "7cc1bb1287a747e58598d42e08845476": {
     "model_module": "@jupyter-widgets/controls",
     "model_module_version": "1.5.0",
     "model_name": "HTMLModel",
     "state": {
      "_dom_classes": [],
      "_model_module": "@jupyter-widgets/controls",
      "_model_module_version": "1.5.0",
      "_model_name": "HTMLModel",
      "_view_count": null,
      "_view_module": "@jupyter-widgets/controls",
      "_view_module_version": "1.5.0",
      "_view_name": "HTMLView",
      "description": "",
      "description_tooltip": null,
      "layout": "IPY_MODEL_95baf5e616ed4254a8073da5a4577320",
      "placeholder": "​",
      "style": "IPY_MODEL_1789b8c51c4b48118e34ffedce61dd47",
      "value": " 547M/547M [00:03&lt;00:00, 156MB/s]"
     }
    },
    "8e69cc838456455c8953a41b28503dab": {
     "model_module": "@jupyter-widgets/controls",
     "model_module_version": "1.5.0",
     "model_name": "FloatProgressModel",
     "state": {
      "_dom_classes": [],
      "_model_module": "@jupyter-widgets/controls",
      "_model_module_version": "1.5.0",
      "_model_name": "FloatProgressModel",
      "_view_count": null,
      "_view_module": "@jupyter-widgets/controls",
      "_view_module_version": "1.5.0",
      "_view_name": "ProgressView",
      "bar_style": "success",
      "description": "",
      "description_tooltip": null,
      "layout": "IPY_MODEL_c2652477e7c04bc9965b80f96e2caf16",
      "max": 546938168,
      "min": 0,
      "orientation": "horizontal",
      "style": "IPY_MODEL_c607deeff00b4e3a976493ed9a3c603d",
      "value": 546938168
     }
    },
    "8f0cb74e78764a89acffa3a4e818e888": {
     "model_module": "@jupyter-widgets/controls",
     "model_module_version": "1.5.0",
     "model_name": "HTMLModel",
     "state": {
      "_dom_classes": [],
      "_model_module": "@jupyter-widgets/controls",
      "_model_module_version": "1.5.0",
      "_model_name": "HTMLModel",
      "_view_count": null,
      "_view_module": "@jupyter-widgets/controls",
      "_view_module_version": "1.5.0",
      "_view_name": "HTMLView",
      "description": "",
      "description_tooltip": null,
      "layout": "IPY_MODEL_7119cc97380a473f88c28732b2c0b484",
      "placeholder": "​",
      "style": "IPY_MODEL_56aec4fb098b461cabab190b64dd9373",
      "value": "model.safetensors: 100%"
     }
    },
    "95baf5e616ed4254a8073da5a4577320": {
     "model_module": "@jupyter-widgets/base",
     "model_module_version": "1.2.0",
     "model_name": "LayoutModel",
     "state": {
      "_model_module": "@jupyter-widgets/base",
      "_model_module_version": "1.2.0",
      "_model_name": "LayoutModel",
      "_view_count": null,
      "_view_module": "@jupyter-widgets/base",
      "_view_module_version": "1.2.0",
      "_view_name": "LayoutView",
      "align_content": null,
      "align_items": null,
      "align_self": null,
      "border": null,
      "bottom": null,
      "display": null,
      "flex": null,
      "flex_flow": null,
      "grid_area": null,
      "grid_auto_columns": null,
      "grid_auto_flow": null,
      "grid_auto_rows": null,
      "grid_column": null,
      "grid_gap": null,
      "grid_row": null,
      "grid_template_areas": null,
      "grid_template_columns": null,
      "grid_template_rows": null,
      "height": null,
      "justify_content": null,
      "justify_items": null,
      "left": null,
      "margin": null,
      "max_height": null,
      "max_width": null,
      "min_height": null,
      "min_width": null,
      "object_fit": null,
      "object_position": null,
      "order": null,
      "overflow": null,
      "overflow_x": null,
      "overflow_y": null,
      "padding": null,
      "right": null,
      "top": null,
      "visibility": null,
      "width": null
     }
    },
    "9cfbbcde5fbc4edca77c0eef1c705d36": {
     "model_module": "@jupyter-widgets/controls",
     "model_module_version": "1.5.0",
     "model_name": "HBoxModel",
     "state": {
      "_dom_classes": [],
      "_model_module": "@jupyter-widgets/controls",
      "_model_module_version": "1.5.0",
      "_model_name": "HBoxModel",
      "_view_count": null,
      "_view_module": "@jupyter-widgets/controls",
      "_view_module_version": "1.5.0",
      "_view_name": "HBoxView",
      "box_style": "",
      "children": [
       "IPY_MODEL_8f0cb74e78764a89acffa3a4e818e888",
       "IPY_MODEL_8e69cc838456455c8953a41b28503dab",
       "IPY_MODEL_7cc1bb1287a747e58598d42e08845476"
      ],
      "layout": "IPY_MODEL_f17e27493b4846e1ab086ea7a6f7654e"
     }
    },
    "c2652477e7c04bc9965b80f96e2caf16": {
     "model_module": "@jupyter-widgets/base",
     "model_module_version": "1.2.0",
     "model_name": "LayoutModel",
     "state": {
      "_model_module": "@jupyter-widgets/base",
      "_model_module_version": "1.2.0",
      "_model_name": "LayoutModel",
      "_view_count": null,
      "_view_module": "@jupyter-widgets/base",
      "_view_module_version": "1.2.0",
      "_view_name": "LayoutView",
      "align_content": null,
      "align_items": null,
      "align_self": null,
      "border": null,
      "bottom": null,
      "display": null,
      "flex": null,
      "flex_flow": null,
      "grid_area": null,
      "grid_auto_columns": null,
      "grid_auto_flow": null,
      "grid_auto_rows": null,
      "grid_column": null,
      "grid_gap": null,
      "grid_row": null,
      "grid_template_areas": null,
      "grid_template_columns": null,
      "grid_template_rows": null,
      "height": null,
      "justify_content": null,
      "justify_items": null,
      "left": null,
      "margin": null,
      "max_height": null,
      "max_width": null,
      "min_height": null,
      "min_width": null,
      "object_fit": null,
      "object_position": null,
      "order": null,
      "overflow": null,
      "overflow_x": null,
      "overflow_y": null,
      "padding": null,
      "right": null,
      "top": null,
      "visibility": null,
      "width": null
     }
    },
    "c607deeff00b4e3a976493ed9a3c603d": {
     "model_module": "@jupyter-widgets/controls",
     "model_module_version": "1.5.0",
     "model_name": "ProgressStyleModel",
     "state": {
      "_model_module": "@jupyter-widgets/controls",
      "_model_module_version": "1.5.0",
      "_model_name": "ProgressStyleModel",
      "_view_count": null,
      "_view_module": "@jupyter-widgets/base",
      "_view_module_version": "1.2.0",
      "_view_name": "StyleView",
      "bar_color": null,
      "description_width": ""
     }
    },
    "f17e27493b4846e1ab086ea7a6f7654e": {
     "model_module": "@jupyter-widgets/base",
     "model_module_version": "1.2.0",
     "model_name": "LayoutModel",
     "state": {
      "_model_module": "@jupyter-widgets/base",
      "_model_module_version": "1.2.0",
      "_model_name": "LayoutModel",
      "_view_count": null,
      "_view_module": "@jupyter-widgets/base",
      "_view_module_version": "1.2.0",
      "_view_name": "LayoutView",
      "align_content": null,
      "align_items": null,
      "align_self": null,
      "border": null,
      "bottom": null,
      "display": null,
      "flex": null,
      "flex_flow": null,
      "grid_area": null,
      "grid_auto_columns": null,
      "grid_auto_flow": null,
      "grid_auto_rows": null,
      "grid_column": null,
      "grid_gap": null,
      "grid_row": null,
      "grid_template_areas": null,
      "grid_template_columns": null,
      "grid_template_rows": null,
      "height": null,
      "justify_content": null,
      "justify_items": null,
      "left": null,
      "margin": null,
      "max_height": null,
      "max_width": null,
      "min_height": null,
      "min_width": null,
      "object_fit": null,
      "object_position": null,
      "order": null,
      "overflow": null,
      "overflow_x": null,
      "overflow_y": null,
      "padding": null,
      "right": null,
      "top": null,
      "visibility": null,
      "width": null
     }
    }
   }
  }
 },
 "nbformat": 4,
 "nbformat_minor": 0
}
