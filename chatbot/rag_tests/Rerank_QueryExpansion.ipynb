{
 "cells": [
  {
   "cell_type": "markdown",
   "metadata": {},
   "source": [
    "* <b> HuggingFace Models </b>\n",
    "\n",
    "    1.    \"sentence-transformers/all-mpnet-base-v2\"\n",
    "\n",
    "    2.    \"sentence-transformers/all-MiniLM-L6-v2\"\n",
    "\n",
    "    3.    \"BAAI/bge-small-en-v1.5\"\n",
    "\n",
    "    4.    \"nomic-ai/nomic-embed-text-v1.5\"\n"
   ]
  },
  {
   "cell_type": "code",
   "execution_count": null,
   "metadata": {
    "colab": {
     "base_uri": "https://localhost:8080/"
    },
    "collapsed": true,
    "id": "USkA-oB3Q9XD",
    "outputId": "4541b89c-c1c3-4e05-d63e-540b2784cbc4"
   },
   "outputs": [
    {
     "name": "stdout",
     "output_type": "stream",
     "text": [
      "Requirement already satisfied: langchain in e:\\cse299\\chatbot\\venv\\lib\\site-packages (from -r requiremnets.txt (line 1)) (0.3.0)Note: you may need to restart the kernel to use updated packages.\n",
      "\n",
      "Requirement already satisfied: langchain-community in e:\\cse299\\chatbot\\venv\\lib\\site-packages (from -r requiremnets.txt (line 2)) (0.3.0)\n",
      "Requirement already satisfied: langchain-chroma in e:\\cse299\\chatbot\\venv\\lib\\site-packages (from -r requiremnets.txt (line 3)) (0.1.4)\n",
      "Requirement already satisfied: langchain_huggingface in e:\\cse299\\chatbot\\venv\\lib\\site-packages (from -r requiremnets.txt (line 4)) (0.1.0)\n",
      "Requirement already satisfied: transformers in e:\\cse299\\chatbot\\venv\\lib\\site-packages (from -r requiremnets.txt (line 5)) (4.45.2)\n",
      "Requirement already satisfied: sentence-transformers in e:\\cse299\\chatbot\\venv\\lib\\site-packages (from -r requiremnets.txt (line 6)) (3.2.1)\n",
      "Requirement already satisfied: chromadb in e:\\cse299\\chatbot\\venv\\lib\\site-packages (from -r requiremnets.txt (line 7)) (0.5.3)\n",
      "Requirement already satisfied: torch in e:\\cse299\\chatbot\\venv\\lib\\site-packages (from -r requiremnets.txt (line 8)) (2.4.1)\n",
      "Requirement already satisfied: pypdf in e:\\cse299\\chatbot\\venv\\lib\\site-packages (from -r requiremnets.txt (line 9)) (4.3.1)\n",
      "Requirement already satisfied: python-dotenv in e:\\cse299\\chatbot\\venv\\lib\\site-packages (from -r requiremnets.txt (line 10)) (1.0.1)\n",
      "Requirement already satisfied: langchain_experimental in e:\\cse299\\chatbot\\venv\\lib\\site-packages (from -r requiremnets.txt (line 11)) (0.3.2)\n",
      "Requirement already satisfied: PyYAML>=5.3 in e:\\cse299\\chatbot\\venv\\lib\\site-packages (from langchain->-r requiremnets.txt (line 1)) (6.0.2)\n",
      "Requirement already satisfied: SQLAlchemy<3,>=1.4 in e:\\cse299\\chatbot\\venv\\lib\\site-packages (from langchain->-r requiremnets.txt (line 1)) (2.0.34)\n",
      "Requirement already satisfied: aiohttp<4.0.0,>=3.8.3 in e:\\cse299\\chatbot\\venv\\lib\\site-packages (from langchain->-r requiremnets.txt (line 1)) (3.10.5)\n",
      "Requirement already satisfied: langchain-core<0.4.0,>=0.3.0 in e:\\cse299\\chatbot\\venv\\lib\\site-packages (from langchain->-r requiremnets.txt (line 1)) (0.3.9)\n",
      "Requirement already satisfied: langchain-text-splitters<0.4.0,>=0.3.0 in e:\\cse299\\chatbot\\venv\\lib\\site-packages (from langchain->-r requiremnets.txt (line 1)) (0.3.0)\n",
      "Requirement already satisfied: langsmith<0.2.0,>=0.1.17 in e:\\cse299\\chatbot\\venv\\lib\\site-packages (from langchain->-r requiremnets.txt (line 1)) (0.1.131)\n",
      "Requirement already satisfied: numpy<2,>=1 in e:\\cse299\\chatbot\\venv\\lib\\site-packages (from langchain->-r requiremnets.txt (line 1)) (1.26.4)\n",
      "Requirement already satisfied: pydantic<3.0.0,>=2.7.4 in e:\\cse299\\chatbot\\venv\\lib\\site-packages (from langchain->-r requiremnets.txt (line 1)) (2.9.1)\n",
      "Requirement already satisfied: requests<3,>=2 in e:\\cse299\\chatbot\\venv\\lib\\site-packages (from langchain->-r requiremnets.txt (line 1)) (2.32.3)\n",
      "Requirement already satisfied: tenacity!=8.4.0,<9.0.0,>=8.1.0 in e:\\cse299\\chatbot\\venv\\lib\\site-packages (from langchain->-r requiremnets.txt (line 1)) (8.5.0)\n",
      "Requirement already satisfied: dataclasses-json<0.7,>=0.5.7 in e:\\cse299\\chatbot\\venv\\lib\\site-packages (from langchain-community->-r requiremnets.txt (line 2)) (0.6.7)\n",
      "Requirement already satisfied: pydantic-settings<3.0.0,>=2.4.0 in e:\\cse299\\chatbot\\venv\\lib\\site-packages (from langchain-community->-r requiremnets.txt (line 2)) (2.5.2)\n",
      "Requirement already satisfied: fastapi<1,>=0.95.2 in e:\\cse299\\chatbot\\venv\\lib\\site-packages (from langchain-chroma->-r requiremnets.txt (line 3)) (0.114.1)\n",
      "Requirement already satisfied: huggingface-hub>=0.23.0 in e:\\cse299\\chatbot\\venv\\lib\\site-packages (from langchain_huggingface->-r requiremnets.txt (line 4)) (0.24.7)\n",
      "Requirement already satisfied: tokenizers>=0.19.1 in e:\\cse299\\chatbot\\venv\\lib\\site-packages (from langchain_huggingface->-r requiremnets.txt (line 4)) (0.20.1)\n",
      "Requirement already satisfied: filelock in e:\\cse299\\chatbot\\venv\\lib\\site-packages (from transformers->-r requiremnets.txt (line 5)) (3.16.0)\n",
      "Requirement already satisfied: packaging>=20.0 in e:\\cse299\\chatbot\\venv\\lib\\site-packages (from transformers->-r requiremnets.txt (line 5)) (24.1)\n",
      "Requirement already satisfied: regex!=2019.12.17 in e:\\cse299\\chatbot\\venv\\lib\\site-packages (from transformers->-r requiremnets.txt (line 5)) (2024.9.11)\n",
      "Requirement already satisfied: safetensors>=0.4.1 in e:\\cse299\\chatbot\\venv\\lib\\site-packages (from transformers->-r requiremnets.txt (line 5)) (0.4.5)\n",
      "Requirement already satisfied: tqdm>=4.27 in e:\\cse299\\chatbot\\venv\\lib\\site-packages (from transformers->-r requiremnets.txt (line 5)) (4.66.5)\n",
      "Requirement already satisfied: scikit-learn in e:\\cse299\\chatbot\\venv\\lib\\site-packages (from sentence-transformers->-r requiremnets.txt (line 6)) (1.5.2)\n",
      "Requirement already satisfied: scipy in e:\\cse299\\chatbot\\venv\\lib\\site-packages (from sentence-transformers->-r requiremnets.txt (line 6)) (1.14.1)\n",
      "Requirement already satisfied: Pillow in e:\\cse299\\chatbot\\venv\\lib\\site-packages (from sentence-transformers->-r requiremnets.txt (line 6)) (10.4.0)\n",
      "Requirement already satisfied: build>=1.0.3 in e:\\cse299\\chatbot\\venv\\lib\\site-packages (from chromadb->-r requiremnets.txt (line 7)) (1.2.2)\n",
      "Requirement already satisfied: chroma-hnswlib==0.7.3 in e:\\cse299\\chatbot\\venv\\lib\\site-packages (from chromadb->-r requiremnets.txt (line 7)) (0.7.3)\n",
      "Requirement already satisfied: uvicorn>=0.18.3 in e:\\cse299\\chatbot\\venv\\lib\\site-packages (from uvicorn[standard]>=0.18.3->chromadb->-r requiremnets.txt (line 7)) (0.30.6)\n",
      "Requirement already satisfied: posthog>=2.4.0 in e:\\cse299\\chatbot\\venv\\lib\\site-packages (from chromadb->-r requiremnets.txt (line 7)) (3.6.5)\n",
      "Requirement already satisfied: typing-extensions>=4.5.0 in e:\\cse299\\chatbot\\venv\\lib\\site-packages (from chromadb->-r requiremnets.txt (line 7)) (4.12.2)\n",
      "Requirement already satisfied: onnxruntime>=1.14.1 in e:\\cse299\\chatbot\\venv\\lib\\site-packages (from chromadb->-r requiremnets.txt (line 7)) (1.19.2)\n",
      "Requirement already satisfied: opentelemetry-api>=1.2.0 in e:\\cse299\\chatbot\\venv\\lib\\site-packages (from chromadb->-r requiremnets.txt (line 7)) (1.27.0)\n",
      "Requirement already satisfied: opentelemetry-exporter-otlp-proto-grpc>=1.2.0 in e:\\cse299\\chatbot\\venv\\lib\\site-packages (from chromadb->-r requiremnets.txt (line 7)) (1.27.0)\n",
      "Requirement already satisfied: opentelemetry-instrumentation-fastapi>=0.41b0 in e:\\cse299\\chatbot\\venv\\lib\\site-packages (from chromadb->-r requiremnets.txt (line 7)) (0.48b0)\n",
      "Requirement already satisfied: opentelemetry-sdk>=1.2.0 in e:\\cse299\\chatbot\\venv\\lib\\site-packages (from chromadb->-r requiremnets.txt (line 7)) (1.27.0)\n",
      "Requirement already satisfied: pypika>=0.48.9 in e:\\cse299\\chatbot\\venv\\lib\\site-packages (from chromadb->-r requiremnets.txt (line 7)) (0.48.9)\n",
      "Requirement already satisfied: overrides>=7.3.1 in e:\\cse299\\chatbot\\venv\\lib\\site-packages (from chromadb->-r requiremnets.txt (line 7)) (7.7.0)\n",
      "Requirement already satisfied: importlib-resources in e:\\cse299\\chatbot\\venv\\lib\\site-packages (from chromadb->-r requiremnets.txt (line 7)) (6.4.5)\n",
      "Requirement already satisfied: grpcio>=1.58.0 in e:\\cse299\\chatbot\\venv\\lib\\site-packages (from chromadb->-r requiremnets.txt (line 7)) (1.66.1)\n",
      "Requirement already satisfied: bcrypt>=4.0.1 in e:\\cse299\\chatbot\\venv\\lib\\site-packages (from chromadb->-r requiremnets.txt (line 7)) (4.2.0)\n",
      "Requirement already satisfied: typer>=0.9.0 in e:\\cse299\\chatbot\\venv\\lib\\site-packages (from chromadb->-r requiremnets.txt (line 7)) (0.12.5)\n",
      "Requirement already satisfied: kubernetes>=28.1.0 in e:\\cse299\\chatbot\\venv\\lib\\site-packages (from chromadb->-r requiremnets.txt (line 7)) (30.1.0)\n",
      "Requirement already satisfied: mmh3>=4.0.1 in e:\\cse299\\chatbot\\venv\\lib\\site-packages (from chromadb->-r requiremnets.txt (line 7)) (4.1.0)\n",
      "Requirement already satisfied: orjson>=3.9.12 in e:\\cse299\\chatbot\\venv\\lib\\site-packages (from chromadb->-r requiremnets.txt (line 7)) (3.10.7)\n",
      "Requirement already satisfied: httpx>=0.27.0 in e:\\cse299\\chatbot\\venv\\lib\\site-packages (from chromadb->-r requiremnets.txt (line 7)) (0.27.2)\n",
      "Requirement already satisfied: sympy in e:\\cse299\\chatbot\\venv\\lib\\site-packages (from torch->-r requiremnets.txt (line 8)) (1.13.2)\n",
      "Requirement already satisfied: networkx in e:\\cse299\\chatbot\\venv\\lib\\site-packages (from torch->-r requiremnets.txt (line 8)) (3.3)\n",
      "Requirement already satisfied: jinja2 in e:\\cse299\\chatbot\\venv\\lib\\site-packages (from torch->-r requiremnets.txt (line 8)) (3.1.4)\n",
      "Requirement already satisfied: fsspec in e:\\cse299\\chatbot\\venv\\lib\\site-packages (from torch->-r requiremnets.txt (line 8)) (2024.9.0)\n",
      "Requirement already satisfied: aiohappyeyeballs>=2.3.0 in e:\\cse299\\chatbot\\venv\\lib\\site-packages (from aiohttp<4.0.0,>=3.8.3->langchain->-r requiremnets.txt (line 1)) (2.4.0)\n",
      "Requirement already satisfied: aiosignal>=1.1.2 in e:\\cse299\\chatbot\\venv\\lib\\site-packages (from aiohttp<4.0.0,>=3.8.3->langchain->-r requiremnets.txt (line 1)) (1.3.1)\n",
      "Requirement already satisfied: attrs>=17.3.0 in e:\\cse299\\chatbot\\venv\\lib\\site-packages (from aiohttp<4.0.0,>=3.8.3->langchain->-r requiremnets.txt (line 1)) (24.2.0)\n",
      "Requirement already satisfied: frozenlist>=1.1.1 in e:\\cse299\\chatbot\\venv\\lib\\site-packages (from aiohttp<4.0.0,>=3.8.3->langchain->-r requiremnets.txt (line 1)) (1.4.1)\n",
      "Requirement already satisfied: multidict<7.0,>=4.5 in e:\\cse299\\chatbot\\venv\\lib\\site-packages (from aiohttp<4.0.0,>=3.8.3->langchain->-r requiremnets.txt (line 1)) (6.1.0)\n",
      "Requirement already satisfied: yarl<2.0,>=1.0 in e:\\cse299\\chatbot\\venv\\lib\\site-packages (from aiohttp<4.0.0,>=3.8.3->langchain->-r requiremnets.txt (line 1)) (1.11.1)\n",
      "Requirement already satisfied: pyproject_hooks in e:\\cse299\\chatbot\\venv\\lib\\site-packages (from build>=1.0.3->chromadb->-r requiremnets.txt (line 7)) (1.1.0)\n",
      "Requirement already satisfied: colorama in e:\\cse299\\chatbot\\venv\\lib\\site-packages (from build>=1.0.3->chromadb->-r requiremnets.txt (line 7)) (0.4.6)\n",
      "Requirement already satisfied: marshmallow<4.0.0,>=3.18.0 in e:\\cse299\\chatbot\\venv\\lib\\site-packages (from dataclasses-json<0.7,>=0.5.7->langchain-community->-r requiremnets.txt (line 2)) (3.22.0)\n",
      "Requirement already satisfied: typing-inspect<1,>=0.4.0 in e:\\cse299\\chatbot\\venv\\lib\\site-packages (from dataclasses-json<0.7,>=0.5.7->langchain-community->-r requiremnets.txt (line 2)) (0.9.0)\n",
      "Requirement already satisfied: starlette<0.39.0,>=0.37.2 in e:\\cse299\\chatbot\\venv\\lib\\site-packages (from fastapi<1,>=0.95.2->langchain-chroma->-r requiremnets.txt (line 3)) (0.38.5)\n",
      "Requirement already satisfied: anyio in e:\\cse299\\chatbot\\venv\\lib\\site-packages (from httpx>=0.27.0->chromadb->-r requiremnets.txt (line 7)) (4.4.0)\n",
      "Requirement already satisfied: certifi in e:\\cse299\\chatbot\\venv\\lib\\site-packages (from httpx>=0.27.0->chromadb->-r requiremnets.txt (line 7)) (2024.8.30)\n",
      "Requirement already satisfied: httpcore==1.* in e:\\cse299\\chatbot\\venv\\lib\\site-packages (from httpx>=0.27.0->chromadb->-r requiremnets.txt (line 7)) (1.0.5)\n",
      "Requirement already satisfied: idna in e:\\cse299\\chatbot\\venv\\lib\\site-packages (from httpx>=0.27.0->chromadb->-r requiremnets.txt (line 7)) (3.8)\n",
      "Requirement already satisfied: sniffio in e:\\cse299\\chatbot\\venv\\lib\\site-packages (from httpx>=0.27.0->chromadb->-r requiremnets.txt (line 7)) (1.3.1)\n",
      "Requirement already satisfied: h11<0.15,>=0.13 in e:\\cse299\\chatbot\\venv\\lib\\site-packages (from httpcore==1.*->httpx>=0.27.0->chromadb->-r requiremnets.txt (line 7)) (0.14.0)\n",
      "Requirement already satisfied: six>=1.9.0 in e:\\cse299\\chatbot\\venv\\lib\\site-packages (from kubernetes>=28.1.0->chromadb->-r requiremnets.txt (line 7)) (1.16.0)\n",
      "Requirement already satisfied: python-dateutil>=2.5.3 in e:\\cse299\\chatbot\\venv\\lib\\site-packages (from kubernetes>=28.1.0->chromadb->-r requiremnets.txt (line 7)) (2.9.0.post0)\n",
      "Requirement already satisfied: google-auth>=1.0.1 in e:\\cse299\\chatbot\\venv\\lib\\site-packages (from kubernetes>=28.1.0->chromadb->-r requiremnets.txt (line 7)) (2.34.0)\n",
      "Requirement already satisfied: websocket-client!=0.40.0,!=0.41.*,!=0.42.*,>=0.32.0 in e:\\cse299\\chatbot\\venv\\lib\\site-packages (from kubernetes>=28.1.0->chromadb->-r requiremnets.txt (line 7)) (1.8.0)\n",
      "Requirement already satisfied: requests-oauthlib in e:\\cse299\\chatbot\\venv\\lib\\site-packages (from kubernetes>=28.1.0->chromadb->-r requiremnets.txt (line 7)) (2.0.0)\n",
      "Requirement already satisfied: oauthlib>=3.2.2 in e:\\cse299\\chatbot\\venv\\lib\\site-packages (from kubernetes>=28.1.0->chromadb->-r requiremnets.txt (line 7)) (3.2.2)\n",
      "Requirement already satisfied: urllib3>=1.24.2 in e:\\cse299\\chatbot\\venv\\lib\\site-packages (from kubernetes>=28.1.0->chromadb->-r requiremnets.txt (line 7)) (2.2.3)\n",
      "Requirement already satisfied: jsonpatch<2.0,>=1.33 in e:\\cse299\\chatbot\\venv\\lib\\site-packages (from langchain-core<0.4.0,>=0.3.0->langchain->-r requiremnets.txt (line 1)) (1.33)\n",
      "Requirement already satisfied: requests-toolbelt<2.0.0,>=1.0.0 in e:\\cse299\\chatbot\\venv\\lib\\site-packages (from langsmith<0.2.0,>=0.1.17->langchain->-r requiremnets.txt (line 1)) (1.0.0)\n",
      "Requirement already satisfied: coloredlogs in e:\\cse299\\chatbot\\venv\\lib\\site-packages (from onnxruntime>=1.14.1->chromadb->-r requiremnets.txt (line 7)) (15.0.1)\n",
      "Requirement already satisfied: flatbuffers in e:\\cse299\\chatbot\\venv\\lib\\site-packages (from onnxruntime>=1.14.1->chromadb->-r requiremnets.txt (line 7)) (24.3.25)\n",
      "Requirement already satisfied: protobuf in e:\\cse299\\chatbot\\venv\\lib\\site-packages (from onnxruntime>=1.14.1->chromadb->-r requiremnets.txt (line 7)) (4.25.4)\n",
      "Requirement already satisfied: deprecated>=1.2.6 in e:\\cse299\\chatbot\\venv\\lib\\site-packages (from opentelemetry-api>=1.2.0->chromadb->-r requiremnets.txt (line 7)) (1.2.14)\n",
      "Requirement already satisfied: importlib-metadata<=8.4.0,>=6.0 in e:\\cse299\\chatbot\\venv\\lib\\site-packages (from opentelemetry-api>=1.2.0->chromadb->-r requiremnets.txt (line 7)) (8.4.0)\n",
      "Requirement already satisfied: googleapis-common-protos~=1.52 in e:\\cse299\\chatbot\\venv\\lib\\site-packages (from opentelemetry-exporter-otlp-proto-grpc>=1.2.0->chromadb->-r requiremnets.txt (line 7)) (1.65.0)\n",
      "Requirement already satisfied: opentelemetry-exporter-otlp-proto-common==1.27.0 in e:\\cse299\\chatbot\\venv\\lib\\site-packages (from opentelemetry-exporter-otlp-proto-grpc>=1.2.0->chromadb->-r requiremnets.txt (line 7)) (1.27.0)\n",
      "Requirement already satisfied: opentelemetry-proto==1.27.0 in e:\\cse299\\chatbot\\venv\\lib\\site-packages (from opentelemetry-exporter-otlp-proto-grpc>=1.2.0->chromadb->-r requiremnets.txt (line 7)) (1.27.0)\n",
      "Requirement already satisfied: opentelemetry-instrumentation-asgi==0.48b0 in e:\\cse299\\chatbot\\venv\\lib\\site-packages (from opentelemetry-instrumentation-fastapi>=0.41b0->chromadb->-r requiremnets.txt (line 7)) (0.48b0)\n",
      "Requirement already satisfied: opentelemetry-instrumentation==0.48b0 in e:\\cse299\\chatbot\\venv\\lib\\site-packages (from opentelemetry-instrumentation-fastapi>=0.41b0->chromadb->-r requiremnets.txt (line 7)) (0.48b0)\n",
      "Requirement already satisfied: opentelemetry-semantic-conventions==0.48b0 in e:\\cse299\\chatbot\\venv\\lib\\site-packages (from opentelemetry-instrumentation-fastapi>=0.41b0->chromadb->-r requiremnets.txt (line 7)) (0.48b0)\n",
      "Requirement already satisfied: opentelemetry-util-http==0.48b0 in e:\\cse299\\chatbot\\venv\\lib\\site-packages (from opentelemetry-instrumentation-fastapi>=0.41b0->chromadb->-r requiremnets.txt (line 7)) (0.48b0)\n",
      "Requirement already satisfied: setuptools>=16.0 in e:\\cse299\\chatbot\\venv\\lib\\site-packages (from opentelemetry-instrumentation==0.48b0->opentelemetry-instrumentation-fastapi>=0.41b0->chromadb->-r requiremnets.txt (line 7)) (65.5.0)\n",
      "Requirement already satisfied: wrapt<2.0.0,>=1.0.0 in e:\\cse299\\chatbot\\venv\\lib\\site-packages (from opentelemetry-instrumentation==0.48b0->opentelemetry-instrumentation-fastapi>=0.41b0->chromadb->-r requiremnets.txt (line 7)) (1.16.0)\n",
      "Requirement already satisfied: asgiref~=3.0 in e:\\cse299\\chatbot\\venv\\lib\\site-packages (from opentelemetry-instrumentation-asgi==0.48b0->opentelemetry-instrumentation-fastapi>=0.41b0->chromadb->-r requiremnets.txt (line 7)) (3.8.1)\n",
      "Requirement already satisfied: monotonic>=1.5 in e:\\cse299\\chatbot\\venv\\lib\\site-packages (from posthog>=2.4.0->chromadb->-r requiremnets.txt (line 7)) (1.6)\n",
      "Requirement already satisfied: backoff>=1.10.0 in e:\\cse299\\chatbot\\venv\\lib\\site-packages (from posthog>=2.4.0->chromadb->-r requiremnets.txt (line 7)) (2.2.1)\n",
      "Requirement already satisfied: annotated-types>=0.6.0 in e:\\cse299\\chatbot\\venv\\lib\\site-packages (from pydantic<3.0.0,>=2.7.4->langchain->-r requiremnets.txt (line 1)) (0.7.0)\n",
      "Requirement already satisfied: pydantic-core==2.23.3 in e:\\cse299\\chatbot\\venv\\lib\\site-packages (from pydantic<3.0.0,>=2.7.4->langchain->-r requiremnets.txt (line 1)) (2.23.3)\n",
      "Requirement already satisfied: charset-normalizer<4,>=2 in e:\\cse299\\chatbot\\venv\\lib\\site-packages (from requests<3,>=2->langchain->-r requiremnets.txt (line 1)) (3.3.2)\n",
      "Requirement already satisfied: greenlet!=0.4.17 in e:\\cse299\\chatbot\\venv\\lib\\site-packages (from SQLAlchemy<3,>=1.4->langchain->-r requiremnets.txt (line 1)) (3.1.0)\n",
      "Requirement already satisfied: click>=8.0.0 in e:\\cse299\\chatbot\\venv\\lib\\site-packages (from typer>=0.9.0->chromadb->-r requiremnets.txt (line 7)) (8.1.7)\n",
      "Requirement already satisfied: shellingham>=1.3.0 in e:\\cse299\\chatbot\\venv\\lib\\site-packages (from typer>=0.9.0->chromadb->-r requiremnets.txt (line 7)) (1.5.4)\n",
      "Requirement already satisfied: rich>=10.11.0 in e:\\cse299\\chatbot\\venv\\lib\\site-packages (from typer>=0.9.0->chromadb->-r requiremnets.txt (line 7)) (13.8.1)\n",
      "Requirement already satisfied: httptools>=0.5.0 in e:\\cse299\\chatbot\\venv\\lib\\site-packages (from uvicorn[standard]>=0.18.3->chromadb->-r requiremnets.txt (line 7)) (0.6.1)\n",
      "Requirement already satisfied: watchfiles>=0.13 in e:\\cse299\\chatbot\\venv\\lib\\site-packages (from uvicorn[standard]>=0.18.3->chromadb->-r requiremnets.txt (line 7)) (0.24.0)\n",
      "Requirement already satisfied: websockets>=10.4 in e:\\cse299\\chatbot\\venv\\lib\\site-packages (from uvicorn[standard]>=0.18.3->chromadb->-r requiremnets.txt (line 7)) (13.0.1)\n",
      "Requirement already satisfied: MarkupSafe>=2.0 in e:\\cse299\\chatbot\\venv\\lib\\site-packages (from jinja2->torch->-r requiremnets.txt (line 8)) (2.1.5)\n",
      "Requirement already satisfied: joblib>=1.2.0 in e:\\cse299\\chatbot\\venv\\lib\\site-packages (from scikit-learn->sentence-transformers->-r requiremnets.txt (line 6)) (1.4.2)\n",
      "Requirement already satisfied: threadpoolctl>=3.1.0 in e:\\cse299\\chatbot\\venv\\lib\\site-packages (from scikit-learn->sentence-transformers->-r requiremnets.txt (line 6)) (3.5.0)\n",
      "Requirement already satisfied: mpmath<1.4,>=1.1.0 in e:\\cse299\\chatbot\\venv\\lib\\site-packages (from sympy->torch->-r requiremnets.txt (line 8)) (1.3.0)\n",
      "Requirement already satisfied: cachetools<6.0,>=2.0.0 in e:\\cse299\\chatbot\\venv\\lib\\site-packages (from google-auth>=1.0.1->kubernetes>=28.1.0->chromadb->-r requiremnets.txt (line 7)) (5.5.0)\n",
      "Requirement already satisfied: pyasn1-modules>=0.2.1 in e:\\cse299\\chatbot\\venv\\lib\\site-packages (from google-auth>=1.0.1->kubernetes>=28.1.0->chromadb->-r requiremnets.txt (line 7)) (0.4.1)\n",
      "Requirement already satisfied: rsa<5,>=3.1.4 in e:\\cse299\\chatbot\\venv\\lib\\site-packages (from google-auth>=1.0.1->kubernetes>=28.1.0->chromadb->-r requiremnets.txt (line 7)) (4.9)\n",
      "Requirement already satisfied: zipp>=0.5 in e:\\cse299\\chatbot\\venv\\lib\\site-packages (from importlib-metadata<=8.4.0,>=6.0->opentelemetry-api>=1.2.0->chromadb->-r requiremnets.txt (line 7)) (3.20.2)\n",
      "Requirement already satisfied: jsonpointer>=1.9 in e:\\cse299\\chatbot\\venv\\lib\\site-packages (from jsonpatch<2.0,>=1.33->langchain-core<0.4.0,>=0.3.0->langchain->-r requiremnets.txt (line 1)) (3.0.0)\n",
      "Requirement already satisfied: markdown-it-py>=2.2.0 in e:\\cse299\\chatbot\\venv\\lib\\site-packages (from rich>=10.11.0->typer>=0.9.0->chromadb->-r requiremnets.txt (line 7)) (3.0.0)\n",
      "Requirement already satisfied: pygments<3.0.0,>=2.13.0 in e:\\cse299\\chatbot\\venv\\lib\\site-packages (from rich>=10.11.0->typer>=0.9.0->chromadb->-r requiremnets.txt (line 7)) (2.18.0)\n",
      "Requirement already satisfied: mypy-extensions>=0.3.0 in e:\\cse299\\chatbot\\venv\\lib\\site-packages (from typing-inspect<1,>=0.4.0->dataclasses-json<0.7,>=0.5.7->langchain-community->-r requiremnets.txt (line 2)) (1.0.0)\n",
      "Requirement already satisfied: humanfriendly>=9.1 in e:\\cse299\\chatbot\\venv\\lib\\site-packages (from coloredlogs->onnxruntime>=1.14.1->chromadb->-r requiremnets.txt (line 7)) (10.0)\n",
      "Requirement already satisfied: pyreadline3 in e:\\cse299\\chatbot\\venv\\lib\\site-packages (from humanfriendly>=9.1->coloredlogs->onnxruntime>=1.14.1->chromadb->-r requiremnets.txt (line 7)) (3.4.3)\n",
      "Requirement already satisfied: mdurl~=0.1 in e:\\cse299\\chatbot\\venv\\lib\\site-packages (from markdown-it-py>=2.2.0->rich>=10.11.0->typer>=0.9.0->chromadb->-r requiremnets.txt (line 7)) (0.1.2)\n",
      "Requirement already satisfied: pyasn1<0.7.0,>=0.4.6 in e:\\cse299\\chatbot\\venv\\lib\\site-packages (from pyasn1-modules>=0.2.1->google-auth>=1.0.1->kubernetes>=28.1.0->chromadb->-r requiremnets.txt (line 7)) (0.6.1)\n"
     ]
    }
   ],
   "source": [
    "# %pip install -r requiremnets.txt"
   ]
  },
  {
   "cell_type": "code",
   "execution_count": null,
   "metadata": {},
   "outputs": [
    {
     "name": "stdout",
     "output_type": "stream",
     "text": [
      "Requirement already satisfied: einops in e:\\cse299\\chatbot\\venv\\lib\\site-packages (0.8.0)\n",
      "Note: you may need to restart the kernel to use updated packages.\n"
     ]
    }
   ],
   "source": [
    "# %pip install einops"
   ]
  },
  {
   "cell_type": "code",
   "execution_count": 1,
   "metadata": {},
   "outputs": [
    {
     "name": "stdout",
     "output_type": "stream",
     "text": [
      "Note: you may need to restart the kernel to use updated packages.\n"
     ]
    },
    {
     "name": "stderr",
     "output_type": "stream",
     "text": [
      "\n",
      "[notice] A new release of pip is available: 24.2 -> 24.3.1\n",
      "[notice] To update, run: python.exe -m pip install --upgrade pip\n"
     ]
    },
    {
     "name": "stdout",
     "output_type": "stream",
     "text": [
      "Requirement already satisfied: langchain-cohere in e:\\cse299\\chatbot\\venv\\lib\\site-packages (0.3.1)\n",
      "Requirement already satisfied: cohere in e:\\cse299\\chatbot\\venv\\lib\\site-packages (5.11.2)\n",
      "Requirement already satisfied: langchain-core<0.4,>=0.3.0 in e:\\cse299\\chatbot\\venv\\lib\\site-packages (from langchain-cohere) (0.3.9)\n",
      "Requirement already satisfied: langchain-experimental>=0.3.0 in e:\\cse299\\chatbot\\venv\\lib\\site-packages (from langchain-cohere) (0.3.2)\n",
      "Requirement already satisfied: pandas>=1.4.3 in e:\\cse299\\chatbot\\venv\\lib\\site-packages (from langchain-cohere) (2.2.3)\n",
      "Requirement already satisfied: pydantic<3,>=2 in e:\\cse299\\chatbot\\venv\\lib\\site-packages (from langchain-cohere) (2.9.1)\n",
      "Requirement already satisfied: tabulate<0.10.0,>=0.9.0 in e:\\cse299\\chatbot\\venv\\lib\\site-packages (from langchain-cohere) (0.9.0)\n",
      "Requirement already satisfied: fastavro<2.0.0,>=1.9.4 in e:\\cse299\\chatbot\\venv\\lib\\site-packages (from cohere) (1.9.7)\n",
      "Requirement already satisfied: httpx>=0.21.2 in e:\\cse299\\chatbot\\venv\\lib\\site-packages (from cohere) (0.27.2)\n",
      "Requirement already satisfied: httpx-sse==0.4.0 in e:\\cse299\\chatbot\\venv\\lib\\site-packages (from cohere) (0.4.0)\n",
      "Requirement already satisfied: parameterized<0.10.0,>=0.9.0 in e:\\cse299\\chatbot\\venv\\lib\\site-packages (from cohere) (0.9.0)\n",
      "Requirement already satisfied: pydantic-core<3.0.0,>=2.18.2 in e:\\cse299\\chatbot\\venv\\lib\\site-packages (from cohere) (2.23.3)\n",
      "Requirement already satisfied: requests<3.0.0,>=2.0.0 in e:\\cse299\\chatbot\\venv\\lib\\site-packages (from cohere) (2.32.3)\n",
      "Requirement already satisfied: tokenizers<1,>=0.15 in e:\\cse299\\chatbot\\venv\\lib\\site-packages (from cohere) (0.20.1)\n",
      "Requirement already satisfied: types-requests<3.0.0,>=2.0.0 in e:\\cse299\\chatbot\\venv\\lib\\site-packages (from cohere) (2.32.0.20241016)\n",
      "Requirement already satisfied: typing_extensions>=4.0.0 in e:\\cse299\\chatbot\\venv\\lib\\site-packages (from cohere) (4.12.2)\n",
      "Requirement already satisfied: anyio in e:\\cse299\\chatbot\\venv\\lib\\site-packages (from httpx>=0.21.2->cohere) (4.4.0)\n",
      "Requirement already satisfied: certifi in e:\\cse299\\chatbot\\venv\\lib\\site-packages (from httpx>=0.21.2->cohere) (2024.8.30)\n",
      "Requirement already satisfied: httpcore==1.* in e:\\cse299\\chatbot\\venv\\lib\\site-packages (from httpx>=0.21.2->cohere) (1.0.5)\n",
      "Requirement already satisfied: idna in e:\\cse299\\chatbot\\venv\\lib\\site-packages (from httpx>=0.21.2->cohere) (3.8)\n",
      "Requirement already satisfied: sniffio in e:\\cse299\\chatbot\\venv\\lib\\site-packages (from httpx>=0.21.2->cohere) (1.3.1)\n",
      "Requirement already satisfied: h11<0.15,>=0.13 in e:\\cse299\\chatbot\\venv\\lib\\site-packages (from httpcore==1.*->httpx>=0.21.2->cohere) (0.14.0)\n",
      "Requirement already satisfied: PyYAML>=5.3 in e:\\cse299\\chatbot\\venv\\lib\\site-packages (from langchain-core<0.4,>=0.3.0->langchain-cohere) (6.0.2)\n",
      "Requirement already satisfied: jsonpatch<2.0,>=1.33 in e:\\cse299\\chatbot\\venv\\lib\\site-packages (from langchain-core<0.4,>=0.3.0->langchain-cohere) (1.33)\n",
      "Requirement already satisfied: langsmith<0.2.0,>=0.1.125 in e:\\cse299\\chatbot\\venv\\lib\\site-packages (from langchain-core<0.4,>=0.3.0->langchain-cohere) (0.1.131)\n",
      "Requirement already satisfied: packaging<25,>=23.2 in e:\\cse299\\chatbot\\venv\\lib\\site-packages (from langchain-core<0.4,>=0.3.0->langchain-cohere) (24.1)\n",
      "Requirement already satisfied: tenacity!=8.4.0,<9.0.0,>=8.1.0 in e:\\cse299\\chatbot\\venv\\lib\\site-packages (from langchain-core<0.4,>=0.3.0->langchain-cohere) (8.5.0)\n",
      "Requirement already satisfied: langchain-community<0.4.0,>=0.3.0 in e:\\cse299\\chatbot\\venv\\lib\\site-packages (from langchain-experimental>=0.3.0->langchain-cohere) (0.3.0)\n",
      "Requirement already satisfied: numpy>=1.23.2 in e:\\cse299\\chatbot\\venv\\lib\\site-packages (from pandas>=1.4.3->langchain-cohere) (1.26.4)\n",
      "Requirement already satisfied: python-dateutil>=2.8.2 in e:\\cse299\\chatbot\\venv\\lib\\site-packages (from pandas>=1.4.3->langchain-cohere) (2.9.0.post0)\n",
      "Requirement already satisfied: pytz>=2020.1 in e:\\cse299\\chatbot\\venv\\lib\\site-packages (from pandas>=1.4.3->langchain-cohere) (2024.2)\n",
      "Requirement already satisfied: tzdata>=2022.7 in e:\\cse299\\chatbot\\venv\\lib\\site-packages (from pandas>=1.4.3->langchain-cohere) (2024.1)\n",
      "Requirement already satisfied: annotated-types>=0.6.0 in e:\\cse299\\chatbot\\venv\\lib\\site-packages (from pydantic<3,>=2->langchain-cohere) (0.7.0)\n",
      "Requirement already satisfied: charset-normalizer<4,>=2 in e:\\cse299\\chatbot\\venv\\lib\\site-packages (from requests<3.0.0,>=2.0.0->cohere) (3.3.2)\n",
      "Requirement already satisfied: urllib3<3,>=1.21.1 in e:\\cse299\\chatbot\\venv\\lib\\site-packages (from requests<3.0.0,>=2.0.0->cohere) (2.2.3)\n",
      "Requirement already satisfied: huggingface-hub<1.0,>=0.16.4 in e:\\cse299\\chatbot\\venv\\lib\\site-packages (from tokenizers<1,>=0.15->cohere) (0.24.7)\n",
      "Requirement already satisfied: filelock in e:\\cse299\\chatbot\\venv\\lib\\site-packages (from huggingface-hub<1.0,>=0.16.4->tokenizers<1,>=0.15->cohere) (3.16.0)\n",
      "Requirement already satisfied: fsspec>=2023.5.0 in e:\\cse299\\chatbot\\venv\\lib\\site-packages (from huggingface-hub<1.0,>=0.16.4->tokenizers<1,>=0.15->cohere) (2024.9.0)\n",
      "Requirement already satisfied: tqdm>=4.42.1 in e:\\cse299\\chatbot\\venv\\lib\\site-packages (from huggingface-hub<1.0,>=0.16.4->tokenizers<1,>=0.15->cohere) (4.66.5)\n",
      "Requirement already satisfied: jsonpointer>=1.9 in e:\\cse299\\chatbot\\venv\\lib\\site-packages (from jsonpatch<2.0,>=1.33->langchain-core<0.4,>=0.3.0->langchain-cohere) (3.0.0)\n",
      "Requirement already satisfied: SQLAlchemy<3,>=1.4 in e:\\cse299\\chatbot\\venv\\lib\\site-packages (from langchain-community<0.4.0,>=0.3.0->langchain-experimental>=0.3.0->langchain-cohere) (2.0.34)\n",
      "Requirement already satisfied: aiohttp<4.0.0,>=3.8.3 in e:\\cse299\\chatbot\\venv\\lib\\site-packages (from langchain-community<0.4.0,>=0.3.0->langchain-experimental>=0.3.0->langchain-cohere) (3.10.5)\n",
      "Requirement already satisfied: dataclasses-json<0.7,>=0.5.7 in e:\\cse299\\chatbot\\venv\\lib\\site-packages (from langchain-community<0.4.0,>=0.3.0->langchain-experimental>=0.3.0->langchain-cohere) (0.6.7)\n",
      "Requirement already satisfied: langchain<0.4.0,>=0.3.0 in e:\\cse299\\chatbot\\venv\\lib\\site-packages (from langchain-community<0.4.0,>=0.3.0->langchain-experimental>=0.3.0->langchain-cohere) (0.3.0)\n",
      "Requirement already satisfied: pydantic-settings<3.0.0,>=2.4.0 in e:\\cse299\\chatbot\\venv\\lib\\site-packages (from langchain-community<0.4.0,>=0.3.0->langchain-experimental>=0.3.0->langchain-cohere) (2.5.2)\n",
      "Requirement already satisfied: orjson<4.0.0,>=3.9.14 in e:\\cse299\\chatbot\\venv\\lib\\site-packages (from langsmith<0.2.0,>=0.1.125->langchain-core<0.4,>=0.3.0->langchain-cohere) (3.10.7)\n",
      "Requirement already satisfied: requests-toolbelt<2.0.0,>=1.0.0 in e:\\cse299\\chatbot\\venv\\lib\\site-packages (from langsmith<0.2.0,>=0.1.125->langchain-core<0.4,>=0.3.0->langchain-cohere) (1.0.0)\n",
      "Requirement already satisfied: six>=1.5 in e:\\cse299\\chatbot\\venv\\lib\\site-packages (from python-dateutil>=2.8.2->pandas>=1.4.3->langchain-cohere) (1.16.0)\n",
      "Requirement already satisfied: aiohappyeyeballs>=2.3.0 in e:\\cse299\\chatbot\\venv\\lib\\site-packages (from aiohttp<4.0.0,>=3.8.3->langchain-community<0.4.0,>=0.3.0->langchain-experimental>=0.3.0->langchain-cohere) (2.4.0)\n",
      "Requirement already satisfied: aiosignal>=1.1.2 in e:\\cse299\\chatbot\\venv\\lib\\site-packages (from aiohttp<4.0.0,>=3.8.3->langchain-community<0.4.0,>=0.3.0->langchain-experimental>=0.3.0->langchain-cohere) (1.3.1)\n",
      "Requirement already satisfied: attrs>=17.3.0 in e:\\cse299\\chatbot\\venv\\lib\\site-packages (from aiohttp<4.0.0,>=3.8.3->langchain-community<0.4.0,>=0.3.0->langchain-experimental>=0.3.0->langchain-cohere) (24.2.0)\n",
      "Requirement already satisfied: frozenlist>=1.1.1 in e:\\cse299\\chatbot\\venv\\lib\\site-packages (from aiohttp<4.0.0,>=3.8.3->langchain-community<0.4.0,>=0.3.0->langchain-experimental>=0.3.0->langchain-cohere) (1.4.1)\n",
      "Requirement already satisfied: multidict<7.0,>=4.5 in e:\\cse299\\chatbot\\venv\\lib\\site-packages (from aiohttp<4.0.0,>=3.8.3->langchain-community<0.4.0,>=0.3.0->langchain-experimental>=0.3.0->langchain-cohere) (6.1.0)\n",
      "Requirement already satisfied: yarl<2.0,>=1.0 in e:\\cse299\\chatbot\\venv\\lib\\site-packages (from aiohttp<4.0.0,>=3.8.3->langchain-community<0.4.0,>=0.3.0->langchain-experimental>=0.3.0->langchain-cohere) (1.11.1)\n",
      "Requirement already satisfied: marshmallow<4.0.0,>=3.18.0 in e:\\cse299\\chatbot\\venv\\lib\\site-packages (from dataclasses-json<0.7,>=0.5.7->langchain-community<0.4.0,>=0.3.0->langchain-experimental>=0.3.0->langchain-cohere) (3.22.0)\n",
      "Requirement already satisfied: typing-inspect<1,>=0.4.0 in e:\\cse299\\chatbot\\venv\\lib\\site-packages (from dataclasses-json<0.7,>=0.5.7->langchain-community<0.4.0,>=0.3.0->langchain-experimental>=0.3.0->langchain-cohere) (0.9.0)\n",
      "Requirement already satisfied: langchain-text-splitters<0.4.0,>=0.3.0 in e:\\cse299\\chatbot\\venv\\lib\\site-packages (from langchain<0.4.0,>=0.3.0->langchain-community<0.4.0,>=0.3.0->langchain-experimental>=0.3.0->langchain-cohere) (0.3.0)\n",
      "Requirement already satisfied: python-dotenv>=0.21.0 in e:\\cse299\\chatbot\\venv\\lib\\site-packages (from pydantic-settings<3.0.0,>=2.4.0->langchain-community<0.4.0,>=0.3.0->langchain-experimental>=0.3.0->langchain-cohere) (1.0.1)\n",
      "Requirement already satisfied: greenlet!=0.4.17 in e:\\cse299\\chatbot\\venv\\lib\\site-packages (from SQLAlchemy<3,>=1.4->langchain-community<0.4.0,>=0.3.0->langchain-experimental>=0.3.0->langchain-cohere) (3.1.0)\n",
      "Requirement already satisfied: colorama in e:\\cse299\\chatbot\\venv\\lib\\site-packages (from tqdm>=4.42.1->huggingface-hub<1.0,>=0.16.4->tokenizers<1,>=0.15->cohere) (0.4.6)\n",
      "Requirement already satisfied: mypy-extensions>=0.3.0 in e:\\cse299\\chatbot\\venv\\lib\\site-packages (from typing-inspect<1,>=0.4.0->dataclasses-json<0.7,>=0.5.7->langchain-community<0.4.0,>=0.3.0->langchain-experimental>=0.3.0->langchain-cohere) (1.0.0)\n"
     ]
    }
   ],
   "source": [
    "%pip install langchain-cohere cohere"
   ]
  },
  {
   "cell_type": "markdown",
   "metadata": {},
   "source": [
    "## Path"
   ]
  },
  {
   "cell_type": "code",
   "execution_count": 1,
   "metadata": {},
   "outputs": [],
   "source": [
    "# Set paths in your notebook\n",
    "model_path = r\"E:/CSE299/chatbot/llm\"\n",
    "embedding_save_path = r\"E:/CSE299/chatbot/Embedding\"\n",
    "pdfs_path = r\"E:/CSE299/chatbot/docs\""
   ]
  },
  {
   "cell_type": "markdown",
   "metadata": {},
   "source": [
    "## Import Dependencies"
   ]
  },
  {
   "cell_type": "code",
   "execution_count": 2,
   "metadata": {
    "id": "tBCONJnCRW2_"
   },
   "outputs": [],
   "source": [
    "from langchain_community.document_loaders import PyPDFDirectoryLoader\n",
    "from langchain_text_splitters import RecursiveCharacterTextSplitter\n",
    "from langchain_chroma import Chroma\n",
    "from langchain_community.embeddings.ollama import OllamaEmbeddings\n",
    "from langchain_community.llms.ollama import Ollama\n",
    "from langchain import hub\n",
    "from langchain_core.output_parsers import StrOutputParser\n",
    "from langchain_core.runnables import RunnablePassthrough\n"
   ]
  },
  {
   "cell_type": "markdown",
   "metadata": {},
   "source": [
    "## Intializing Models"
   ]
  },
  {
   "cell_type": "markdown",
   "metadata": {},
   "source": [
    "Embedding Model"
   ]
  },
  {
   "cell_type": "code",
   "execution_count": 3,
   "metadata": {
    "id": "dWFcj5XSp1Ka"
   },
   "outputs": [],
   "source": [
    "from langchain_huggingface import HuggingFaceEmbeddings\n",
    "\n",
    "\n",
    "def get_embedding_model(model_name, model_kwargs, path):\n",
    "    encode_kwargs = {'normalize_embeddings': True}\n",
    "\n",
    "    # Initialize HuggingFaceEmbeddings with model name and kwargs\n",
    "    hf = HuggingFaceEmbeddings(\n",
    "        model_name=model_name,\n",
    "        model_kwargs=model_kwargs,\n",
    "        encode_kwargs=encode_kwargs,\n",
    "        cache_folder=path\n",
    "    )\n",
    "\n",
    "    return hf"
   ]
  },
  {
   "cell_type": "markdown",
   "metadata": {},
   "source": [
    "LLM (Ollama model)"
   ]
  },
  {
   "cell_type": "code",
   "execution_count": 4,
   "metadata": {
    "id": "OkLniAhdCQS3"
   },
   "outputs": [],
   "source": [
    "# @title get Ollama model\n",
    "\n",
    "from langchain_community.llms import Ollama\n",
    "\n",
    "def get_ollama_model(model):\n",
    "    llm = Ollama(model=model)\n",
    "    return llm\n"
   ]
  },
  {
   "cell_type": "markdown",
   "metadata": {},
   "source": [
    "#  Embedding "
   ]
  },
  {
   "cell_type": "markdown",
   "metadata": {},
   "source": [
    "Initilize the embedding model"
   ]
  },
  {
   "cell_type": "code",
   "execution_count": 5,
   "metadata": {},
   "outputs": [
    {
     "name": "stderr",
     "output_type": "stream",
     "text": [
      "e:\\CSE299\\chatbot\\venv\\Lib\\site-packages\\tqdm\\auto.py:21: TqdmWarning: IProgress not found. Please update jupyter and ipywidgets. See https://ipywidgets.readthedocs.io/en/stable/user_install.html\n",
      "  from .autonotebook import tqdm as notebook_tqdm\n"
     ]
    }
   ],
   "source": [
    "# import os\n",
    "from transformers import AutoModel\n",
    "\n",
    "\n",
    "embedding_model_save_path = r\"E:\\CSE299\\chatbot\\llm\\mpnet\"\n",
    "\n",
    "\n",
    "\n",
    "embedding_model_name = \"sentence-transformers/all-mpnet-base-v2\"\n",
    "model_kwargs = {'device': 'cpu', 'trust_remote_code': True}\n",
    "\n",
    "# Assuming get_embedding_model is defined to support a 'path' argument for saving locally\n",
    "embedding = get_embedding_model(embedding_model_name, model_kwargs, path=embedding_model_save_path)"
   ]
  },
  {
   "cell_type": "code",
   "execution_count": 39,
   "metadata": {
    "id": "XRwwZI1in_MZ"
   },
   "outputs": [],
   "source": [
    "sem_embedding = embedding"
   ]
  },
  {
   "cell_type": "markdown",
   "metadata": {
    "id": "rIax-u7dteI-"
   },
   "source": [
    "# Existing Vector DB load"
   ]
  },
  {
   "cell_type": "code",
   "execution_count": 17,
   "metadata": {},
   "outputs": [],
   "source": [
    "from langchain.vectorstores import Chroma\n",
    "embedding_vector_db_path = r\"E:\\CSE299\\chatbot\\Embedding\\mpnet\\recursive\"\n",
    "\n",
    "vectorstore = Chroma(persist_directory=embedding_vector_db_path, embedding_function=embedding)\n",
    "\n",
    "retriever = vectorstore.as_retriever(search_type=\"similarity\", search_kwargs={\"k\": 6})"
   ]
  },
  {
   "cell_type": "code",
   "execution_count": 19,
   "metadata": {},
   "outputs": [],
   "source": [
    "from langchain_cohere import CohereEmbeddings, CohereRerank\n",
    "from langchain.retrievers.contextual_compression import ContextualCompressionRetriever\n",
    "from langchain_community.llms import Cohere\n",
    "from dotenv import load_dotenv\n",
    "import os\n",
    "\n",
    "# Load environment variables from .env file\n",
    "load_dotenv(\"E:/CSE299/chatbot/.env\")\n",
    "\n",
    "# Retrieve the API key from the environment\n",
    "cohere_api_key = os.getenv(\"COHERE_API_KEY\")\n",
    "\n",
    "# Set up the compressor and retriever\n",
    "compressor = CohereRerank(\n",
    "    cohere_api_key=cohere_api_key,\n",
    "    model=\"rerank-english-v3.0\"\n",
    ")\n",
    "compression_retriever = ContextualCompressionRetriever(\n",
    "    base_compressor=compressor,\n",
    "    base_retriever=retriever  # Ensure 'retriever' is properly defined earlier in your code\n",
    ")\n"
   ]
  },
  {
   "cell_type": "code",
   "execution_count": null,
   "metadata": {},
   "outputs": [
    {
     "name": "stdout",
     "output_type": "stream",
     "text": [
      "Directory created at: E:\\CSE299\\chatbot\\llm\\paraphrase-MiniLM-L6-v2\n",
      "Downloading and loading the model...\n",
      "Model saved successfully at: E:\\CSE299\\chatbot\\llm\\paraphrase-MiniLM-L6-v2\n"
     ]
    }
   ],
   "source": [
    "# import os\n",
    "# from sentence_transformers import SentenceTransformer\n",
    "\n",
    "# # Step 3: Define the path to store the model\n",
    "# model_path = r\"E:\\CSE299\\chatbot\\llm\\paraphrase-MiniLM-L6-v2\"\n",
    "\n",
    "# # Step 4: Ensure the directory exists, or create it if it doesn't\n",
    "# if not os.path.exists(model_path):\n",
    "#     os.makedirs(model_path)\n",
    "#     print(f\"Directory created at: {model_path}\")\n",
    "\n",
    "# # Step 5: Load the model and save it locally\n",
    "# def load_and_save_model():\n",
    "#     try:\n",
    "#         print(\"Downloading and loading the model...\")\n",
    "#         model = SentenceTransformer('sentence-transformers/paraphrase-MiniLM-L6-v2')\n",
    "\n",
    "#         # Save the model to the specified path\n",
    "#         model.save(model_path)\n",
    "#         print(f\"Model saved successfully at: {model_path}\")\n",
    "\n",
    "#     except Exception as e:\n",
    "#         print(f\"An error occurred: {e}\")\n",
    "\n",
    "# # Execute the function to download and save the model\n",
    "# load_and_save_model()\n"
   ]
  },
  {
   "cell_type": "markdown",
   "metadata": {},
   "source": [
    "Prompt"
   ]
  },
  {
   "cell_type": "code",
   "execution_count": 12,
   "metadata": {},
   "outputs": [],
   "source": [
    "from sentence_transformers import SentenceTransformer, util\n",
    "\n",
    "# Load the model from the local path\n",
    "model_path = r\"E:\\CSE299\\chatbot\\llm\\paraphrase-MiniLM-L6-v2\"\n",
    "model = SentenceTransformer(model_path)\n",
    "\n",
    "\n",
    "def query_enhancement(question, num_expansions=5):\n",
    "    \"\"\"Enhance the input question by generating multiple related questions.\"\"\"\n",
    "    \n",
    "    # Predefined paraphrase templates\n",
    "    PROMPT_TEMPLATE = [\n",
    "        f\"Explain more about {question}.\",\n",
    "        f\"Can you elaborate on {question}?\",\n",
    "        f\"What are some details regarding {question}?\",\n",
    "        f\"Find related information about {question}.\",\n",
    "        f\"Why is {question} important?\",\n",
    "        f\"What is the significance of {question}?\",\n",
    "        f\"How does {question} work?\",\n",
    "        f\"Provide examples related to {question}.\",\n",
    "    ]\n",
    "    \n",
    "    # Encode the original question and templates\n",
    "    question_embedding = model.encode(question, convert_to_tensor=True)\n",
    "    template_embeddings = model.encode(PROMPT_TEMPLATE, convert_to_tensor=True)\n",
    "\n",
    "    # Calculate cosine similarities between the question and templates\n",
    "    similarities = util.pytorch_cos_sim(question_embedding, template_embeddings)\n",
    "\n",
    "    # Rank templates by similarity and select top-N expansions\n",
    "    ranked_indices = similarities.argsort(descending=True).tolist()[0]\n",
    "    expanded_questions = [PROMPT_TEMPLATE[i] for i in ranked_indices[:num_expansions]]\n",
    "\n",
    "    return expanded_questions"
   ]
  },
  {
   "cell_type": "code",
   "execution_count": 13,
   "metadata": {},
   "outputs": [
    {
     "name": "stdout",
     "output_type": "stream",
     "text": [
      "Expanded Queries:\n",
      "1. Why is Why do some clock hands and digits glow in the dark? important?\n",
      "2. How does Why do some clock hands and digits glow in the dark? work?\n",
      "3. Explain more about Why do some clock hands and digits glow in the dark?.\n",
      "4. Can you elaborate on Why do some clock hands and digits glow in the dark??\n",
      "5. What are some details regarding Why do some clock hands and digits glow in the dark??\n"
     ]
    }
   ],
   "source": [
    "query = \"Why do some clock hands and digits glow in the dark?\"\n",
    "expanded_queries = query_enhancement(query)\n",
    "\n",
    "print(\"Expanded Queries:\")\n",
    "for i, eq in enumerate(expanded_queries, 1):\n",
    "    print(f\"{i}. {eq}\")"
   ]
  },
  {
   "cell_type": "code",
   "execution_count": 9,
   "metadata": {
    "id": "APr4HNY9pHg6"
   },
   "outputs": [],
   "source": [
    "#@title prompt template\n",
    "\n",
    "PROMPT_TEMPLATE = \"\"\"\n",
    "Use the following context to answer the question clearly and simply:\n",
    "{context}\n",
    "Answer the question based on the above context: {question}.\n",
    "Provide a detailed answer.\n",
    "Do not justify your answers.\n",
    "Please explain using simple language, relevant examples, and avoid jargon.\n",
    "\"\"\"\n",
    "\n"
   ]
  },
  {
   "cell_type": "code",
   "execution_count": 8,
   "metadata": {
    "id": "0uJJCPCKPrDs"
   },
   "outputs": [],
   "source": [
    "llm = get_ollama_model(\"llama3.2:1b\")\n",
    "# prompt = process_query(\"explain newtons first law with example\")\n",
    "# response = llm(prompt)\n",
    "# print(response)\n"
   ]
  },
  {
   "cell_type": "code",
   "execution_count": 21,
   "metadata": {
    "colab": {
     "base_uri": "https://localhost:8080/"
    },
    "id": "WZ5xnvObmHDl",
    "outputId": "c87a703a-d1de-4394-b6fe-99dd1120bb76"
   },
   "outputs": [
    {
     "name": "stdout",
     "output_type": "stream",
     "text": [
      "Here's the answer:\n",
      "\n",
      "**Difference between Mass and Weight:**\n",
      "\n",
      "Mass is a measure of how much \"stuff\" something has inside it. It's like the number of bricks in a box.\n",
      "\n",
      "Weight, on the other hand, is what people think that mass looks like when they're pulling or pushing it with their hands. If you're standing on a scale, what's being measured is your weight. So, if someone weighs less than you, they have less \"stuff\" inside them (i.e., more mass), even though they both weigh the same.\n",
      "\n",
      "**Gravitational Force and Weight:**\n",
      "\n",
      "Imagine you have a toy box with some toys inside it. If you lift the box off the ground, what happens? It feels like a lot of weight is pulling on your hand to hold the box up.\n",
      "\n",
      "This is because there's an invisible force acting on the box, pushing down on it from all directions (even if you can't see it). This force is called gravity, and it's what keeps you on the ground. When you're standing on a scale, that invisible force is being measured as your weight.\n",
      "\n",
      "In simpler terms:\n",
      "\n",
      "* Weight is like how much \"stuff\" something has inside it.\n",
      "* Gravity is an invisible force that pulls everything towards each other.\n",
      "\n",
      "**Formula for Calculating Weight:**\n",
      "\n",
      "The formula for calculating weight is:\n",
      "\n",
      "Weight (W) = Force (F) x Acceleration (a)\n",
      "\n",
      "Where F is the force of gravity pulling on you, and a is how fast you're accelerating (or decelerating)."
     ]
    }
   ],
   "source": [
    "# from langchain_community.vectorstores import FAISS\n",
    "from langchain_core.output_parsers import StrOutputParser\n",
    "from langchain_core.prompts import ChatPromptTemplate\n",
    "from langchain_core.runnables import RunnablePassthrough\n",
    "\n",
    "# llm = get_ollama_model(\"gemma2:2b\")\n",
    "\n",
    "prompt = ChatPromptTemplate.from_template(PROMPT_TEMPLATE)\n",
    "\n",
    "retrieval_chain = (\n",
    "    {\"context\": compression_retriever, \"question\": RunnablePassthrough()}\n",
    "    | prompt\n",
    "    | llm\n",
    "    | StrOutputParser()\n",
    ")\n",
    "\n",
    "for chunk in retrieval_chain.stream(\"What is the difference between mass and weight? Explain how gravitational force affects weight and provide the formula for calculating weight.\"):\n",
    "    print(chunk, end=\"\", flush=True)"
   ]
  },
  {
   "cell_type": "code",
   "execution_count": 25,
   "metadata": {},
   "outputs": [
    {
     "name": "stderr",
     "output_type": "stream",
     "text": [
      "C:\\Users\\Asus\\AppData\\Local\\Temp\\ipykernel_19680\\2549892717.py:53: LangChainDeprecationWarning: The method `BaseRetriever.get_relevant_documents` was deprecated in langchain-core 0.1.46 and will be removed in 1.0. Use :meth:`~invoke` instead.\n",
      "  docs = compression_retriever.get_relevant_documents(expanded_query)\n"
     ]
    },
    {
     "name": "stdout",
     "output_type": "stream",
     "text": [
      "Ranked Documents:\n",
      "1. Actually it is the unit of \n",
      "work or energy. We usually pay the bill of el ectricity of houses, factories etc measured \n",
      "in this unit. One kilowatt-hour means the energy that a machine with a power of one kilowatt uses in one hour. 60 watt mark on a bulb means that it transforms 60 Joules \n",
      "electrical energy to light and heat energy in one second. 200 megawatt power of an electrical power station means that it supplies 200000000 \n",
      "joules energy in one second. We are using this energy in houses, factories and offices. Mathematical Example 4.4: A person of mass 70 kg can stair up 30 steps of 25 cm \n",
      "height each in 15 s. What is his power? (g = 9.8 ms\n",
      "-2) \n",
      "We know, \n",
      "P=                 =    =  \n",
      "  = 343 W \n",
      "Ans: 343 W \n",
      "Do it: Count the number of steps of the stairs to reach  the roof of your school or house or any \n",
      "other building. Measure the height of the roof in meter. Measure your mass with the help of a \n",
      "weight measuring machine in kilogram. Multiply your mass with 9.8 and then you will find your \n",
      "weight in newton. Then run to the top of the ro of. Measure the total time  of reaching the roof \n",
      "with the help of a stop watch. Your work done will be, your weight × total height \n",
      "Your power will be, your total work done ÷ total time i.e.,      .\n",
      "2. Uninterrupted energy supply is essential for the \n",
      "survival of all living creatures. The demand of energy is increasing day by day with the development of life style. For this increasing demand of energy man is looking for newer \n",
      "sources of energy. We need to have clear idea about the sources of energy to save the \n",
      "living beings and to continue the supply of energy. We know that the sun is the only source of all energy. Moreover, the nuclear energy in the nucleus and the energy from \n",
      "the hot melted substances are considered to  be the sources of energy. All the existing \n",
      "energy of the world is directly or indirectly comes from the sun or are produced using \n",
      "the radiation of the sun. Chemical Energy/Fuel Energy: \n",
      "Man in the ancient time was dependent wholly on the energy of their muscles. Afterwards, they learnt to tame the wild animals and use their energy in different work. They used to carry their goods and cultivate la nd with the help of animals. The initial \n",
      "stage of civilization was to produce heat energy from burning wood and leaves and \n",
      "mechanical energy from current of water and flow of wind. The economic development of human being begins from the use of machine energy. Industrial revolution and \n",
      "invention of steam engine reduced men’s dependence on muscle energy of human and \n",
      "animals. Man kept operating different machines with the help of steam energy. Fuel is Here,  \n",
      "Mass of the body, m = 6 kg Height, h = 20m g = 9.8 ms\n",
      "-2 \n",
      "Potential Energy, E p = ?\n",
      "3. Consequently he di scovered the laws of falling bodies and \n",
      "established the foundation of statics. Ne wton by his versatile genius discovered \n",
      "mechanics and the three famous laws of mechanics and law of universal gravitation. He also made contribution for optics, heat and sound. He invented calculus, a new branch of \n",
      "mathematics. The discovery and inventions of the eighteenth and nineteenth century paved the way for  \n",
      "Europe to industrial revolution. The steam engine of James Watt (1736-1819 A.D) played a vital role for industrial revolution. Hans Christian Oersted (1777-1851 A.D) demonstrated the magnetic effect of current. This discovery led Michael Faraday (1791-1867 A.D), Henry (1797-1879 A.D) and Lenz (1804-1865 A.D) towards discovering the fact that magnetic effect produces electric current. In fact, this was a discovery of the \n",
      "process of converting mechanical energy into electrical energy. In 1864 James Clark Maxwell (1831-1879 A.D) demonstrated that light is one kind of \n",
      "electromagnetic wave. He established the electromagnetic theory by combining electric and magnetic field. Similar kind of radiati on was also discovered and produced in 1888 \n",
      "by Heinrich Hertz (1857-1894 A.D). Using the same kind of waves in 1896, Marconi (1874-1937 A.D) discovered the method of sending signal through ″Morse code ″ to far \n",
      "off distance. Before him Sir Jagadish Cha ndra Basu (1858-1937 A.D) was able to send \n",
      "energy from one place to another through electromagnetic wave. In this way radio communication was developed. By the end of nineteenth century Roentgen (1845-1923 A.D) discovered x-rays and Becquerel (1852-1908 A.D) discovered the radio activity of \n",
      "uranium. In the twentieth century surprising advancement took place in the field of physics. Max \n",
      "Planck (1858-1947 A.D) discovered quantum theory of radiation. Albert Einstein (1879-1955 A.D) invented theory of relativity. These two theories not only explained the previous experimental result but also made some predictions which were experimentally verified.\n",
      "4. The \n",
      "amount of work we do everyday depends on our energy level. We get energy from the food we take. Plants need energy for growth. Engine also needs energy for its functioning. Some engines use electricity and some need fuel for energy. Energy is stored in fuel. What do we mean by energy? The energy of a body means its ability to work. So the body which is able to work has energy in it and the body that does not have energy in it cannot work. displacemen t\n",
      "( time )2 \n",
      "(displacemen t)2\n",
      "( time )2 \n",
      "       ML2 \n",
      "     T2 \n",
      "Given,\n",
      "Mass of man, m = 70kg Force, F = weight of the man = mg         = 70kg × 9.8 ms\n",
      "-2 \n",
      "        = 686N Displacement, S = 200m \n",
      "Work, W =? \n",
      "5. As a result work will be done \n",
      "on the body. For this the body will obtain the ab ility to work and this work will be stored \n",
      "6. So it is expected that the learners will be inspired to study this subject for future. Considering the challenges and commitments of 21st century and following the revised \n",
      "curriculum the textbook has been written. Therefore we welcome with our highest consideration any suggestions, both constructive and rationale as well for the further improvement of the book. Amidst huge activities needed for introducing a textbook, this one has been written within a very short span of time frame. We will continue our effort to make the next edition of this book more beautiful, decent and free from any types of errors. We appreciate the endeavours of those who assisted very sincerely with their merit and hard \n",
      "work in the process of writing, translating editing, illustration, introducing sample questions and printing of the book. We hope the book will ensure joyful reading and achievement of expected skills from the learners. Prof.\n",
      "7. Actually, one form of energy is simultaneously \n",
      "transforming into another form which is known as the transformation of energy. What \n",
      "happens when anyone plays guitar? The musc le energy of the artist transforms into \n",
      "mechanical energy on the vibrating string which transforms into sound energy as a \n",
      "melodious music and travels to our ears. When wood is burned chemical energy is \n",
      "released and transforms into heat and light energy. A chemical reaction takes place in an electric cell and the chemical energy of these reactions transforms into electric energy which is used for various purposes. When a definite amount of energy of a particular form is transformed how much energy \n",
      "is obtained? It can be known from the law of conservation of energy. When such a transformation takes place there is no net loss of energy. The energy lost by \n",
      "one body is exactly equal to the energy gained by another body. In fact, we can neither create energy nor destroy it. In other words the total energy of the \n",
      "universe does neither increase nor decrease. The amount of energy that existed in the \n",
      "universe at the moment of its creation exis ts till today. This known as conservation of \n",
      "energy. Principle of Conservation of Energy: \n",
      "Energy can be transformed form one form to another or more forms. The total energy of \n",
      "the universe is constant and unchangeable. \n",
      "8. Physics  81 \n",
      "We can understand from the electric power station that the way energy is transformed from \n",
      "one form to another and we get light and heat  energy in our houses. By burning coal and \n",
      "natural gas in a power station, we can obtain chemical and heat energy. Heat energy is \n",
      "converted into mechanical energy with the help  of turbine which rotates the coil of electric \n",
      "generator. In this process electrical energy is produced. Electric bulb and heater of houses \n",
      "and factories transform electrical into light and heat energy. Again, which energy is transformed into what type of energy when we pierce a nail into wood by hammering it? The chemical energy of our boy is used to lift the hammer upward \n",
      "which is stored as potential energy due to th e higher position of it. When it moves down the \n",
      "potential energy stored is transformed into kine tic energy. This kinetic energy is used to \n",
      "pierce the nail into wood. At the same time s ound energy and heat energy in nail, wood and \n",
      "in hammer is produced. During the transformation energy may not be cr eated or destroyed but reduced. Such as, we \n",
      "cannot make use of all the heat energy as we can use light or electric energy. 4.5 Power \n",
      "We all are familiar with the word power. In our daily life power is usually related to taking \n",
      "decision and implementation. In science the word  “power” is related to the devices motor, \n",
      "pump, and engine etc. i.e.\n",
      "9. Suppose the V\n",
      "th vernier mark coincides with or nearest with any main scale mark. Hence \n",
      "the vernier constant of the instrument is VC. \n",
      "10. After completing B.A. he went to England for higher study in the \n",
      "year 1880. His student life in England was from 1880 to 1884. He completed the B.A. degree with honours in physics from University of Cambridge and a B. Sc.\n",
      "11. Explain fixed resistance and variable resistance. 7. Explain electromotive force and potential difference. 8. Explain dependence of resistance. 9. Explain resistivity and conductivity. 10.\n"
     ]
    }
   ],
   "source": [
    "from langchain_cohere import CohereRerank\n",
    "from langchain.retrievers.contextual_compression import ContextualCompressionRetriever\n",
    "from dotenv import load_dotenv\n",
    "from sentence_transformers import SentenceTransformer, util\n",
    "import os\n",
    "\n",
    "# Load environment variables from the .env file\n",
    "load_dotenv(\"E:/CSE299/chatbot/.env\")\n",
    "cohere_api_key = os.getenv(\"COHERE_API_KEY\")\n",
    "\n",
    "# Load the paraphrase-MiniLM-L6-v2 model for query expansion\n",
    "model_path = r\"E:\\CSE299\\chatbot\\llm\\paraphrase-MiniLM-L6-v2\"\n",
    "query_expansion_model = SentenceTransformer(model_path)\n",
    "\n",
    "# Initialize the Cohere rerank model\n",
    "compressor = CohereRerank(\n",
    "    cohere_api_key=cohere_api_key,\n",
    "    model=\"rerank-english-v3.0\"\n",
    ")\n",
    "\n",
    "# Assume `retriever` is defined earlier using your Chroma vector store\n",
    "compression_retriever = ContextualCompressionRetriever(\n",
    "    base_compressor=compressor,\n",
    "    base_retriever=retriever\n",
    ")\n",
    "\n",
    "# Function for query expansion\n",
    "def query_enhancement(question, num_expansions=5):\n",
    "    \"\"\"Generate multiple related questions using MiniLM.\"\"\"\n",
    "    PROMPT_TEMPLATE = [\n",
    "        f\"Explain more about {question}.\",\n",
    "        f\"Can you elaborate on {question}?\",\n",
    "        f\"What are some details regarding {question}?\",\n",
    "        f\"Find related information about {question}.\",\n",
    "        f\"Why is {question} important?\",\n",
    "        f\"What is the significance of {question}?\",\n",
    "        f\"How does {question} work?\",\n",
    "        f\"Provide examples related to {question}.\",\n",
    "    ]\n",
    "    question_embedding = query_expansion_model.encode(question, convert_to_tensor=True)\n",
    "    template_embeddings = query_expansion_model.encode(PROMPT_TEMPLATE, convert_to_tensor=True)\n",
    "    similarities = util.pytorch_cos_sim(question_embedding, template_embeddings)\n",
    "    ranked_indices = similarities.argsort(descending=True).tolist()[0]\n",
    "    return [PROMPT_TEMPLATE[i] for i in ranked_indices[:num_expansions]]\n",
    "\n",
    "# Retrieve and rerank documents using expanded queries\n",
    "def retrieve_with_expansion(query):\n",
    "    expanded_queries = query_enhancement(query)\n",
    "    all_documents = []\n",
    "\n",
    "    # Retrieve documents for each expanded query\n",
    "    for expanded_query in expanded_queries:\n",
    "        docs = compression_retriever.get_relevant_documents(expanded_query)\n",
    "        all_documents.extend(docs)\n",
    "\n",
    "    # Remove duplicates (optional) by converting to a set of document contents\n",
    "    unique_documents = {doc.page_content: doc for doc in all_documents}.values()\n",
    "\n",
    "    return list(unique_documents)\n",
    "\n",
    "# Example usage\n",
    "query = \"What is the difference between mass and weight?\"\n",
    "retrieved_docs = retrieve_with_expansion(query)\n",
    "\n",
    "# Display the ranked documents\n",
    "print(\"Ranked Documents:\")\n",
    "for i, doc in enumerate(retrieved_docs, 1):\n",
    "    print(f\"{i}. {doc.page_content}\")\n"
   ]
  },
  {
   "cell_type": "code",
   "execution_count": 16,
   "metadata": {},
   "outputs": [],
   "source": [
    "from langchain.prompts import ChatPromptTemplate\n",
    "from langchain_community.llms import Ollama\n",
    "from langchain.vectorstores import Chroma\n",
    "from langchain_cohere import CohereRerank\n",
    "from langchain.retrievers.contextual_compression import ContextualCompressionRetriever\n",
    "from dotenv import load_dotenv\n",
    "import os\n",
    "\n",
    "# Load environment variables from the .env file\n",
    "load_dotenv(\"E:/CSE299/chatbot/.env\")\n",
    "cohere_api_key = os.getenv(\"COHERE_API_KEY\")\n"
   ]
  },
  {
   "cell_type": "code",
   "execution_count": 17,
   "metadata": {},
   "outputs": [
    {
     "name": "stdout",
     "output_type": "stream",
     "text": [
      "Cohere API Key: myYCD1LsmCxKWDPUYUjY67i4XZ68YDnDaMKTbFVB\n"
     ]
    }
   ],
   "source": [
    "print(\"Cohere API Key:\", cohere_api_key)\n"
   ]
  },
  {
   "cell_type": "code",
   "execution_count": 19,
   "metadata": {},
   "outputs": [
    {
     "name": "stdout",
     "output_type": "stream",
     "text": [
      "Sample Retrieved Documents: ['78  Physics \\ntrees. Biomass refers to all those organic materials that can transform into energy. Man \\nalong with other animals takes biomass as food and keeps their activities of life active by \\ntransforming biomass into energy. Biomass can be considered as a multiple source of \\nenergy. The organic substances that can be us ed as the source of energy are – plants and \\ntrees, dry wood, waste of wood, crops, husk of rice, herbs, waste of birds and animals, \\ngarbage etc. Biomass is mainly composed of Carbon and Hydrogen. One of the \\nrenewable sources of energy is biomass. \\nBiogas can be produced easily from biomass. We can use this gas as the alternate to \\nnatural gas and use for cooking even for the production of electricity. The production of \\nbiogas is very simple. If we keep cow dung and water in 1:2 ratio in a closed pot for', 'with the advancement of science. It was thought before that living world follows a \\ndifferent rule and the laws of physical science are applicable only for the inanimate objects. But now we know that the animal body can be compared to a machine from \\nmany aspects and it is possible to explain many behaviors of animal body with the help \\nof physical laws. Actually, the laws of physics are universal. So, not only the physical world, but also the animal kingdom can be explained with the help of physics in many \\ncases. This is the basis of bio-physics. \\nThe challenge of bio-physics is to explain different complexities of life on the basis of \\nsimple laws of physics. Bio-physics is a powerful tool to reach at the depth of life by \\ninvestigating different secrets of life and analyzing different events using mathematics \\nand physics. Bio-physics is a bridge between biology and physics.   \\n14.2 Contributions of Jagadish Chandra Bose', '76  Physics \\npetroleum well. The principal element in a natural gas is the methane gas. These are \\ncalled fossil energy. \\nThe three sources of energy discussed above are reducing very fast due to the men’s \\nincreasing demand of energy. The physical condition of the world is such that these \\nsources-coal, mineral oil, natural gas cannot be recreated, these are called nonrenewable energy. So men are looking for alternate sources of energy of which solar energy, energy \\nfrom water flow, energy from tide and ebb, geothermal energy, wind energy, biomass etc \\nare the main sources. These sources are direc tly or indirectly dependent on the sun. As \\nlong as earth receives sunlight the energy su pply from these sources is possible. These \\nare called renewable sources.     \\nSolar Energy: \\nThe energy that we obtain from the sun is called Solar Energy. It is known to all that the', 'help of this steam. There is such kind of power station in Newzealand.          \\nBiomass Energy \\nA small fraction of solar energy is transformed into chemical energy by the green plants \\nin the process of photosynthesis and remains st ored as biomass in different parts of the \\n \\nFigure: 4.6', 'conservation of energy, one of the important laws of science.]  \\nBy the end of this chapter we  will be able to  - \\n1. Explain the relation between work and energy. \\n2. Establish the relation among work, force and displacement. \\n3. Explain kinetic and potential energy. \\n4. Explain the transformation of energy in its source. \\n5. Analyze the contribution of the source of energy regarding economic, social and \\nenvironmental influence. \\n6. Explain the relation between transformation of energy and conservation of energy. \\n7. Explain transformation of energy and how its uses hamper the balance of \\nenvironment. \\n8. Explain the effective use of energy in developing activities. \\n9. Be conscious about the effective and safe use of energy. \\n10. Explain the mass-energy relation. \\n11. Establish the relation between transmission of energy and power. \\n12. Measure the efficiency.', 'living beings and to continue the supply of energy. We know that the sun is the only source of all energy. Moreover, the nuclear energy in the nucleus and the energy from \\nthe hot melted substances are considered to  be the sources of energy. All the existing \\nenergy of the world is directly or indirectly comes from the sun or are produced using \\nthe radiation of the sun.  \\nChemical Energy/Fuel Energy: \\nMan in the ancient time was dependent wholly on the energy of their muscles. \\nAfterwards, they learnt to tame the wild animals and use their energy in different work. They used to carry their goods and cultivate la nd with the help of animals. The initial \\nstage of civilization was to produce heat energy from burning wood and leaves and \\nmechanical energy from current of water and flow of wind. The economic development of human being begins from the use of machine energy. Industrial revolution and \\ninvention of steam engine reduced men’s dependence on muscle energy of human and']\n"
     ]
    }
   ],
   "source": [
    "# Set up the path to your vector store embedding directory\n",
    "embedding_vector_db_path = r\"E:\\CSE299\\chatbot\\Embedding\\mpnet\\recursive\"\n",
    "\n",
    "# Initialize the vector store\n",
    "vectorstore = Chroma(persist_directory=embedding_vector_db_path, embedding_function=embedding)\n",
    "\n",
    "# Define the retriever with similarity search, returning top 6 results\n",
    "retriever = vectorstore.as_retriever(search_type=\"similarity\", search_kwargs={\"k\": 6})\n",
    "\n",
    "# Debug Check: Test the retriever with a sample query\n",
    "test_query = \"Explain ecosystems\"\n",
    "retrieved_docs = retriever.get_relevant_documents(test_query)\n",
    "print(\"Sample Retrieved Documents:\", [doc.page_content for doc in retrieved_docs])\n"
   ]
  },
  {
   "cell_type": "code",
   "execution_count": null,
   "metadata": {},
   "outputs": [
    {
     "ename": "NameError",
     "evalue": "name 'test_query' is not defined",
     "output_type": "error",
     "traceback": [
      "\u001b[1;31m---------------------------------------------------------------------------\u001b[0m",
      "\u001b[1;31mNameError\u001b[0m                                 Traceback (most recent call last)",
      "Cell \u001b[1;32mIn[24], line 14\u001b[0m\n\u001b[0;32m      8\u001b[0m compression_retriever \u001b[38;5;241m=\u001b[39m ContextualCompressionRetriever(\n\u001b[0;32m      9\u001b[0m     base_compressor\u001b[38;5;241m=\u001b[39mcompressor,\n\u001b[0;32m     10\u001b[0m     base_retriever\u001b[38;5;241m=\u001b[39mretriever\n\u001b[0;32m     11\u001b[0m )\n\u001b[0;32m     13\u001b[0m \u001b[38;5;66;03m# Debug Check: Test the compressor with the same test query\u001b[39;00m\n\u001b[1;32m---> 14\u001b[0m compressed_docs \u001b[38;5;241m=\u001b[39m compression_retriever\u001b[38;5;241m.\u001b[39mget_relevant_documents(\u001b[43mtest_query\u001b[49m)\n\u001b[0;32m     15\u001b[0m \u001b[38;5;28mprint\u001b[39m(\u001b[38;5;124m\"\u001b[39m\u001b[38;5;124mCompressed Documents:\u001b[39m\u001b[38;5;124m\"\u001b[39m, [doc\u001b[38;5;241m.\u001b[39mpage_content \u001b[38;5;28;01mfor\u001b[39;00m doc \u001b[38;5;129;01min\u001b[39;00m compressed_docs])\n",
      "\u001b[1;31mNameError\u001b[0m: name 'test_query' is not defined"
     ]
    }
   ],
   "source": [
    "# # Initialize Cohere rerank model\n",
    "# compressor = CohereRerank(\n",
    "#     cohere_api_key=cohere_api_key,\n",
    "#     model=\"rerank-english-v3.0\"\n",
    "# )\n",
    "\n",
    "# # Set up the compression retriever that uses both the retriever and compressor\n",
    "# compression_retriever = ContextualCompressionRetriever(\n",
    "#     base_compressor=compressor,\n",
    "#     base_retriever=retriever\n",
    "# )\n",
    "\n",
    "# # Debug Check: Test the compressor with the same test query\n",
    "# compressed_docs = compression_retriever.get_relevant_documents(test_query)\n",
    "# print(\"Compressed Documents:\", [doc.page_content for doc in compressed_docs])\n"
   ]
  },
  {
   "cell_type": "code",
   "execution_count": 25,
   "metadata": {},
   "outputs": [
    {
     "name": "stdout",
     "output_type": "stream",
     "text": [
      "Raw Response from Ollama: 1. How does an ecosystem support the survival of plants and animals within its boundaries?\n",
      "2. What are the key components that make up a typical terrestrial ecosystem?\n",
      "3. Describe how energy flows through different trophic levels in an ecosystem.\n",
      "4. Explain the role of decomposers in maintaining balance within ecosystems.\n",
      "5. Define biotic and abiotic factors, and discuss their interplay with ecosystem functioning.\n",
      "Expanded Queries: ['1. How does an ecosystem support the survival of plants and animals within its boundaries?', '2. What are the key components that make up a typical terrestrial ecosystem?', '3. Describe how energy flows through different trophic levels in an ecosystem.', '4. Explain the role of decomposers in maintaining balance within ecosystems.', '5. Define biotic and abiotic factors, and discuss their interplay with ecosystem functioning.']\n"
     ]
    }
   ],
   "source": [
    "# Define prompt template for Ollama model for query expansion\n",
    "PROMPT_TEMPLATE = \"\"\"\n",
    "    You are creating questions for 9-10 grade students. Given the following prompt: '{prompt}', rewrite it into 5 more refined and specific questions. Provide only the questions, without any additional information or context.\n",
    "\"\"\"\n",
    "\n",
    "# Function to generate expanded queries using Ollama\n",
    "def query_enhancement(question):\n",
    "    prompt_template = ChatPromptTemplate.from_template(PROMPT_TEMPLATE)\n",
    "    prompt = prompt_template.format(prompt=question)\n",
    "    \n",
    "    # Initialize the Ollama model\n",
    "    model = Ollama(model=\"qwen2.5:1.5b\")\n",
    "    \n",
    "    # Invoke the model with the prompt\n",
    "    response = model.invoke(prompt)\n",
    "    \n",
    "    # Debugging: Print the raw response\n",
    "    print(\"Raw Response from Ollama:\", response)\n",
    "\n",
    "    # Since the response is a string, split it into questions directly\n",
    "    if isinstance(response, str):\n",
    "        questions = response.strip().split(\"\\n\")\n",
    "        questions = [q for q in questions if q]  # Clean up empty strings if any\n",
    "        return questions[:5]  # Limit to 5 questions\n",
    "    else:\n",
    "        print(\"Failed to generate questions from Ollama\")\n",
    "        return []\n",
    "\n",
    "# Debug Check: Test query expansion with a sample question\n",
    "expanded_queries = query_enhancement(\"What is an ecosystem?\")\n",
    "print(\"Expanded Queries:\", expanded_queries)\n"
   ]
  },
  {
   "cell_type": "code",
   "execution_count": null,
   "metadata": {},
   "outputs": [
    {
     "name": "stdout",
     "output_type": "stream",
     "text": [
      "Raw Response from Ollama: 1. What are the components of a typical ecosystem?\n",
      "2. How do organisms interact within an ecosystem? \n",
      "3. Describe the flow of energy through ecosystems.\n",
      "4. Explain what factors can disrupt an ecosystem balance?\n",
      "5. In what ways does biodiversity contribute to an ecosystem's health and stability?\n",
      "\n",
      "Retrieved documents for query '1. What are the components of a typical ecosystem?':\n",
      "\n",
      "Retrieved documents for query '2. How do organisms interact within an ecosystem? ':\n",
      "\n",
      "Retrieved documents for query '3. Describe the flow of energy through ecosystems.':\n",
      "\n",
      "Retrieved documents for query '4. Explain what factors can disrupt an ecosystem balance?':\n",
      "\n",
      "Retrieved documents for query '5. In what ways does biodiversity contribute to an ecosystem's health and stability?':\n",
      "\n",
      "Final Reranked Documents:\n"
     ]
    }
   ],
   "source": [
    "# Function to retrieve and rerank documents based on expanded queries\n",
    "def retrieve_and_rerank_final_output(original_query):\n",
    "    expanded_queries = query_enhancement(original_query)\n",
    "    all_documents = []\n",
    "\n",
    "    # Retrieve documents for each expanded query\n",
    "    for expanded_query in expanded_queries:\n",
    "        docs = compression_retriever.invoke(expanded_query)\n",
    "        print(f\"\\nRetrieved documents for query '{expanded_query}':\")\n",
    "        for doc in docs:\n",
    "            print(vars(doc))  # Inspect document structure\n",
    "\n",
    "        all_documents.extend(docs)\n",
    "\n",
    "    # Update the field here to match the content attribute in Document\n",
    "    unique_documents = {getattr(doc, 'text', None): doc for doc in all_documents if getattr(doc, 'text', None) is not None}.values()\n",
    "\n",
    "    # Final reranking of documents based on original query\n",
    "    reranked_documents = compressor.rerank(list(unique_documents), query=original_query)\n",
    "\n",
    "    return reranked_documents\n",
    "\n",
    "# Test the function with an example query\n",
    "query = \"What is an ecosystem?\"\n",
    "final_reranked_docs = retrieve_and_rerank_final_output(query)\n",
    "\n",
    "# Display the final reranked documents\n",
    "print(\"\\nFinal Reranked Documents:\")\n",
    "for i, doc in enumerate(final_reranked_docs[:5], 1):\n",
    "    content = getattr(doc, 'text', \"No content found\")\n",
    "    print(f\"{i}. {content}\\n\")\n"
   ]
  },
  {
   "cell_type": "code",
   "execution_count": 38,
   "metadata": {},
   "outputs": [
    {
     "name": "stdout",
     "output_type": "stream",
     "text": [
      "Raw Response from Ollama: 1. How does a community of plants and animals interact with their environment?\n",
      "2. What are the key components that make up an ecosystem? \n",
      "3. Can you describe the flow of energy through an ecosystem's food chain?\n",
      "4. Explain what decomposers do in relation to the decomposition process.\n",
      "5. How do different organisms contribute to maintaining a balanced population within an ecosystem?\n",
      "\n",
      "Retrieved documents for query '1. How does a community of plants and animals interact with their environment?':\n",
      "{'id': None, 'metadata': {'page': 72, 'source': 'data/Physics Classes 9-10 (English Version) - National Curriculum and Textbook Board of Bangladesh - PDF Room.pdf', 'start_index': 828, 'relevance_score': 6.526739e-07}, 'page_content': 'conservation of energy, one of the important laws of science.]  \\nBy the end of this chapter we  will be able to  - \\n1. Explain the relation between work and energy. \\n2. Establish the relation among work, force and displacement. \\n3. Explain kinetic and potential energy. \\n4. Explain the transformation of energy in its source. \\n5. Analyze the contribution of the source of energy regarding economic, social and \\nenvironmental influence. \\n6. Explain the relation between transformation of energy and conservation of energy. \\n7. Explain transformation of energy and how its uses hamper the balance of \\nenvironment. \\n8. Explain the effective use of energy in developing activities. \\n9. Be conscious about the effective and safe use of energy. \\n10. Explain the mass-energy relation. \\n11. Establish the relation between transmission of energy and power. \\n12. Measure the efficiency.', 'type': 'Document'}\n",
      "{'id': None, 'metadata': {'page': 52, 'source': 'data/Physics Classes 9-10 (English Version) - National Curriculum and Textbook Board of Bangladesh - PDF Room.pdf', 'start_index': 826, 'relevance_score': 4.485759e-07}, 'page_content': '7. Explain the action and reaction force by applying Newton’s third law of motion.  \\n8. Analyze the influence of motion and force on safe travelling. \\n9. Explain different types of friction and frictional forces. \\n10.  Analyze the influence of friction on the motion of an object. \\n11.  Describe the means to increase or decrease friction. \\n12.  Explain the positive impact of friction in our daily life.', 'type': 'Document'}\n",
      "{'id': None, 'metadata': {'page': 146, 'source': 'data/Physics Classes 9-10 (English Version) - National Curriculum and Textbook Board of Bangladesh - PDF Room.pdf', 'start_index': 794, 'relevance_score': 2.8291333e-07}, 'page_content': '1. Explain the laws of refraction \\n2. Explain the refractive index \\n3. Explain the total internal reflection \\n4. Explain the use of optical fiber \\n5. Explain the lens and its classification \\n6. Describe the different quantities of lens by drawing ray diagram  \\n7. Describe the image formed by the lens by drawing ray diagram \\n8. Describe the power of lens \\n9. Describe the function of eyes by drawing ray diagram \\n10. Describe least distance of distinct vision \\n11. Describe the defects of eyes \\n12. Describe the uses of lens to remedy the defects of eye by drawing ray diagram \\n13. Explain the perception of coloured objects \\n14. Describe the uses of refraction of light in our everyday life', 'type': 'Document'}\n",
      "\n",
      "Retrieved documents for query '2. What are the key components that make up an ecosystem? ':\n",
      "{'id': None, 'metadata': {'page': 78, 'source': 'data/Physics Classes 9-10 (English Version) - National Curriculum and Textbook Board of Bangladesh - PDF Room.pdf', 'start_index': 1619, 'relevance_score': 0.0009146137}, 'page_content': 'living beings and to continue the supply of energy. We know that the sun is the only source of all energy. Moreover, the nuclear energy in the nucleus and the energy from \\nthe hot melted substances are considered to  be the sources of energy. All the existing \\nenergy of the world is directly or indirectly comes from the sun or are produced using \\nthe radiation of the sun.  \\nChemical Energy/Fuel Energy: \\nMan in the ancient time was dependent wholly on the energy of their muscles. \\nAfterwards, they learnt to tame the wild animals and use their energy in different work. They used to carry their goods and cultivate la nd with the help of animals. The initial \\nstage of civilization was to produce heat energy from burning wood and leaves and \\nmechanical energy from current of water and flow of wind. The economic development of human being begins from the use of machine energy. Industrial revolution and \\ninvention of steam engine reduced men’s dependence on muscle energy of human and', 'type': 'Document'}\n",
      "{'id': None, 'metadata': {'page': 82, 'source': 'data/Physics Classes 9-10 (English Version) - National Curriculum and Textbook Board of Bangladesh - PDF Room.pdf', 'start_index': 0, 'relevance_score': 0.00044595622}, 'page_content': '78  Physics \\ntrees. Biomass refers to all those organic materials that can transform into energy. Man \\nalong with other animals takes biomass as food and keeps their activities of life active by \\ntransforming biomass into energy. Biomass can be considered as a multiple source of \\nenergy. The organic substances that can be us ed as the source of energy are – plants and \\ntrees, dry wood, waste of wood, crops, husk of rice, herbs, waste of birds and animals, \\ngarbage etc. Biomass is mainly composed of Carbon and Hydrogen. One of the \\nrenewable sources of energy is biomass. \\nBiogas can be produced easily from biomass. We can use this gas as the alternate to \\nnatural gas and use for cooking even for the production of electricity. The production of \\nbiogas is very simple. If we keep cow dung and water in 1:2 ratio in a closed pot for', 'type': 'Document'}\n",
      "{'id': None, 'metadata': {'page': 80, 'source': 'data/Physics Classes 9-10 (English Version) - National Curriculum and Textbook Board of Bangladesh - PDF Room.pdf', 'start_index': 0, 'relevance_score': 0.0001673405}, 'page_content': '76  Physics \\npetroleum well. The principal element in a natural gas is the methane gas. These are \\ncalled fossil energy. \\nThe three sources of energy discussed above are reducing very fast due to the men’s \\nincreasing demand of energy. The physical condition of the world is such that these \\nsources-coal, mineral oil, natural gas cannot be recreated, these are called nonrenewable energy. So men are looking for alternate sources of energy of which solar energy, energy \\nfrom water flow, energy from tide and ebb, geothermal energy, wind energy, biomass etc \\nare the main sources. These sources are direc tly or indirectly dependent on the sun. As \\nlong as earth receives sunlight the energy su pply from these sources is possible. These \\nare called renewable sources.     \\nSolar Energy: \\nThe energy that we obtain from the sun is called Solar Energy. It is known to all that the', 'type': 'Document'}\n",
      "\n",
      "Retrieved documents for query '3. Can you describe the flow of energy through an ecosystem's food chain?':\n",
      "{'id': None, 'metadata': {'page': 78, 'source': 'data/Physics Classes 9-10 (English Version) - National Curriculum and Textbook Board of Bangladesh - PDF Room.pdf', 'start_index': 1619, 'relevance_score': 0.00026119032}, 'page_content': 'living beings and to continue the supply of energy. We know that the sun is the only source of all energy. Moreover, the nuclear energy in the nucleus and the energy from \\nthe hot melted substances are considered to  be the sources of energy. All the existing \\nenergy of the world is directly or indirectly comes from the sun or are produced using \\nthe radiation of the sun.  \\nChemical Energy/Fuel Energy: \\nMan in the ancient time was dependent wholly on the energy of their muscles. \\nAfterwards, they learnt to tame the wild animals and use their energy in different work. They used to carry their goods and cultivate la nd with the help of animals. The initial \\nstage of civilization was to produce heat energy from burning wood and leaves and \\nmechanical energy from current of water and flow of wind. The economic development of human being begins from the use of machine energy. Industrial revolution and \\ninvention of steam engine reduced men’s dependence on muscle energy of human and', 'type': 'Document'}\n",
      "{'id': None, 'metadata': {'page': 85, 'source': 'data/Physics Classes 9-10 (English Version) - National Curriculum and Textbook Board of Bangladesh - PDF Room.pdf', 'start_index': 805, 'relevance_score': 4.947159e-05}, 'page_content': 'potential energy stored is transformed into kine tic energy. This kinetic energy is used to \\npierce the nail into wood. At the same time s ound energy and heat energy in nail, wood and \\nin hammer is produced.  \\nDuring the transformation energy may not be cr eated or destroyed but reduced. Such as, we \\ncannot make use of all the heat energy as we can use light or electric energy.  \\n4.5 Power \\nWe all are familiar with the word power. In our daily life power is usually related to taking \\ndecision and implementation. In science the word  “power” is related to the devices motor, \\npump, and engine etc. i.e. any device that can  work. Sometimes we want to solve any task \\nquickly. Suppose we want to fill a water tank on the roof of a multistoried building taking \\nwater from its reservoir at the ground floor or fro m a pond. It takes a lo t of time if we want \\nto fill the tank carrying water with a bucket. It takes less time to fill the tank with the help of', 'type': 'Document'}\n",
      "{'id': None, 'metadata': {'page': 82, 'source': 'data/Physics Classes 9-10 (English Version) - National Curriculum and Textbook Board of Bangladesh - PDF Room.pdf', 'start_index': 0, 'relevance_score': 4.5397872e-05}, 'page_content': '78  Physics \\ntrees. Biomass refers to all those organic materials that can transform into energy. Man \\nalong with other animals takes biomass as food and keeps their activities of life active by \\ntransforming biomass into energy. Biomass can be considered as a multiple source of \\nenergy. The organic substances that can be us ed as the source of energy are – plants and \\ntrees, dry wood, waste of wood, crops, husk of rice, herbs, waste of birds and animals, \\ngarbage etc. Biomass is mainly composed of Carbon and Hydrogen. One of the \\nrenewable sources of energy is biomass. \\nBiogas can be produced easily from biomass. We can use this gas as the alternate to \\nnatural gas and use for cooking even for the production of electricity. The production of \\nbiogas is very simple. If we keep cow dung and water in 1:2 ratio in a closed pot for', 'type': 'Document'}\n",
      "\n",
      "Retrieved documents for query '4. Explain what decomposers do in relation to the decomposition process.':\n",
      "{'id': None, 'metadata': {'page': 85, 'source': 'data/Physics Classes 9-10 (English Version) - National Curriculum and Textbook Board of Bangladesh - PDF Room.pdf', 'start_index': 805, 'relevance_score': 0.00010310212}, 'page_content': 'potential energy stored is transformed into kine tic energy. This kinetic energy is used to \\npierce the nail into wood. At the same time s ound energy and heat energy in nail, wood and \\nin hammer is produced.  \\nDuring the transformation energy may not be cr eated or destroyed but reduced. Such as, we \\ncannot make use of all the heat energy as we can use light or electric energy.  \\n4.5 Power \\nWe all are familiar with the word power. In our daily life power is usually related to taking \\ndecision and implementation. In science the word  “power” is related to the devices motor, \\npump, and engine etc. i.e. any device that can  work. Sometimes we want to solve any task \\nquickly. Suppose we want to fill a water tank on the roof of a multistoried building taking \\nwater from its reservoir at the ground floor or fro m a pond. It takes a lo t of time if we want \\nto fill the tank carrying water with a bucket. It takes less time to fill the tank with the help of', 'type': 'Document'}\n",
      "{'id': None, 'metadata': {'page': 82, 'source': 'data/Physics Classes 9-10 (English Version) - National Curriculum and Textbook Board of Bangladesh - PDF Room.pdf', 'start_index': 0, 'relevance_score': 2.3007036e-05}, 'page_content': '78  Physics \\ntrees. Biomass refers to all those organic materials that can transform into energy. Man \\nalong with other animals takes biomass as food and keeps their activities of life active by \\ntransforming biomass into energy. Biomass can be considered as a multiple source of \\nenergy. The organic substances that can be us ed as the source of energy are – plants and \\ntrees, dry wood, waste of wood, crops, husk of rice, herbs, waste of birds and animals, \\ngarbage etc. Biomass is mainly composed of Carbon and Hydrogen. One of the \\nrenewable sources of energy is biomass. \\nBiogas can be produced easily from biomass. We can use this gas as the alternate to \\nnatural gas and use for cooking even for the production of electricity. The production of \\nbiogas is very simple. If we keep cow dung and water in 1:2 ratio in a closed pot for', 'type': 'Document'}\n",
      "{'id': None, 'metadata': {'page': 117, 'source': 'data/Physics Classes 9-10 (English Version) - National Curriculum and Textbook Board of Bangladesh - PDF Room.pdf', 'start_index': 750, 'relevance_score': 4.898569e-06}, 'page_content': 'i. The temperature of a body increases. \\nii. The state of a substance changes. \\niii. The internal energy of a body increases. \\nWhich one is correct? (a) i   (b) ii   (c) ii & iii   (d) i, ii & iii \\nWith the help of the figure give answer of the question no. 4 & 5 \\n \\n4. How much time was required to melt all of the ice? \\na) 2min    b) 4min c) 6min    d) 8min \\n5. What is the required time in minute for the melten water to reach the boiling \\ntemperature? a) 6min    b) 8min \\nc) 12min    d) 18min \\nB. Creative Question \\n1. The distance between two electric poles is 30m. A copper wire with a length of \\n30.01m was connected to those two pillars in a day when temperature was 30°C. \\nCoefficient of linear expansion of copper is 1.67 \\n10-6K-1. The wire tore in a winter \\nday when the temperature of the air was 4°C. \\na) Define triple point of water. \\nb) If two bodies have the equal amount of heat, yet can they be at different \\ntemperature? Explain.', 'type': 'Document'}\n",
      "\n",
      "Retrieved documents for query '5. How do different organisms contribute to maintaining a balanced population within an ecosystem?':\n",
      "{'id': None, 'metadata': {'page': 82, 'source': 'data/Physics Classes 9-10 (English Version) - National Curriculum and Textbook Board of Bangladesh - PDF Room.pdf', 'start_index': 0, 'relevance_score': 1.1635166e-06}, 'page_content': '78  Physics \\ntrees. Biomass refers to all those organic materials that can transform into energy. Man \\nalong with other animals takes biomass as food and keeps their activities of life active by \\ntransforming biomass into energy. Biomass can be considered as a multiple source of \\nenergy. The organic substances that can be us ed as the source of energy are – plants and \\ntrees, dry wood, waste of wood, crops, husk of rice, herbs, waste of birds and animals, \\ngarbage etc. Biomass is mainly composed of Carbon and Hydrogen. One of the \\nrenewable sources of energy is biomass. \\nBiogas can be produced easily from biomass. We can use this gas as the alternate to \\nnatural gas and use for cooking even for the production of electricity. The production of \\nbiogas is very simple. If we keep cow dung and water in 1:2 ratio in a closed pot for', 'type': 'Document'}\n",
      "{'id': None, 'metadata': {'page': 72, 'source': 'data/Physics Classes 9-10 (English Version) - National Curriculum and Textbook Board of Bangladesh - PDF Room.pdf', 'start_index': 828, 'relevance_score': 5.67053e-07}, 'page_content': 'conservation of energy, one of the important laws of science.]  \\nBy the end of this chapter we  will be able to  - \\n1. Explain the relation between work and energy. \\n2. Establish the relation among work, force and displacement. \\n3. Explain kinetic and potential energy. \\n4. Explain the transformation of energy in its source. \\n5. Analyze the contribution of the source of energy regarding economic, social and \\nenvironmental influence. \\n6. Explain the relation between transformation of energy and conservation of energy. \\n7. Explain transformation of energy and how its uses hamper the balance of \\nenvironment. \\n8. Explain the effective use of energy in developing activities. \\n9. Be conscious about the effective and safe use of energy. \\n10. Explain the mass-energy relation. \\n11. Establish the relation between transmission of energy and power. \\n12. Measure the efficiency.', 'type': 'Document'}\n",
      "{'id': None, 'metadata': {'page': 118, 'source': 'data/Physics Classes 9-10 (English Version) - National Curriculum and Textbook Board of Bangladesh - PDF Room.pdf', 'start_index': 781, 'relevance_score': 2.401054e-07}, 'page_content': '6. Set up the mathematical relation among the velocity of sound, frequency and wave \\nlength and measure the quantities from it. \\n7. Explain the change of the velocity of sound. \\n8. Explain the range of hearing and its uses. \\n9. Explain the pitch and intensity of sound. \\n10. Explain the reasons and consequences of sound pollution and the techniques to \\nprevent it.', 'type': 'Document'}\n",
      "\n",
      "Final Answer Generated by the Model:\n",
      "An ecosystem refers to the complex system that encompasses all living organisms within a particular area, including both plants and animals, as well as their interactions with non-living components of their environment such as soil, water, air, and sunlight. This includes both direct physical influences (like climate) and indirect biological influences (such as competition for resources). Ecosystems can be categorized into different types based on the habitat they inhabit: freshwater ecosystems, marine ecosystems, terrestrial ecosystems, etc.\n",
      "\n",
      "An ecosystem is dynamic and interactive; it constantly changes due to interactions among its components. It is also interdependent: all parts of an ecosystem are connected and influence each other in various ways. Ecosystems can be studied through biotic and abiotic factors that compose them, the relationships between species within them (such as predator-prey dynamics), and the physical conditions they exist in.\n",
      "\n",
      "In conclusion, ecosystems represent intricate networks involving living organisms with their environment, which constantly evolve based on interactions among components and dynamic changes due to ecological processes.\n"
     ]
    }
   ],
   "source": [
    "# Function to retrieve documents and prompt the Ollama model for an answer\n",
    "def retrieve_and_generate_final_output(original_query):\n",
    "    expanded_queries = query_enhancement(original_query)\n",
    "    all_documents = []\n",
    "\n",
    "    # Retrieve documents for each expanded query\n",
    "    for expanded_query in expanded_queries:\n",
    "        docs = compression_retriever.invoke(expanded_query)\n",
    "        print(f\"\\nRetrieved documents for query '{expanded_query}':\")\n",
    "        for doc in docs:\n",
    "            print(vars(doc))  # Inspect document structure\n",
    "\n",
    "        all_documents.extend(docs)\n",
    "\n",
    "    # Ensure unique documents by 'text' attribute\n",
    "    unique_documents = {getattr(doc, 'text', None): doc for doc in all_documents if getattr(doc, 'text', None) is not None}.values()\n",
    "    \n",
    "    # Combine the top five unique documents' text into a single context for the model\n",
    "    context = \"\\n\\n\".join([getattr(doc, 'text', \"No content\") for doc in list(unique_documents)[:5]])\n",
    "\n",
    "    # Use Ollama model to generate a response by providing both the query and the document context\n",
    "    prompt = f\"\"\"\n",
    "    Original Question: {original_query}\n",
    "    \n",
    "    Context from Retrieved Documents:\n",
    "    {context}\n",
    "    \n",
    "    Please provide a well-structured answer based on the information above.\n",
    "    \"\"\"\n",
    "    model = Ollama(model=\"qwen2.5:1.5b\")\n",
    "    model_response = model.invoke(prompt)  # Assuming `ollama_model.generate` returns the response text\n",
    "\n",
    "    return model_response\n",
    "\n",
    "# Test the function with an example query\n",
    "query = \"What is an ecosystem?\"\n",
    "final_output = retrieve_and_generate_final_output(query)\n",
    "\n",
    "# Display the final output from the model\n",
    "print(\"\\nFinal Answer Generated by the Model:\")\n",
    "print(final_output)\n"
   ]
  },
  {
   "cell_type": "code",
   "execution_count": 3,
   "metadata": {},
   "outputs": [
    {
     "name": "stdout",
     "output_type": "stream",
     "text": [
      "^C\n",
      "Note: you may need to restart the kernel to use updated packages.\n"
     ]
    }
   ],
   "source": [
    "%pip install matplotlib numpy"
   ]
  },
  {
   "cell_type": "code",
   "execution_count": null,
   "metadata": {},
   "outputs": [
    {
     "ename": "ModuleNotFoundError",
     "evalue": "No module named 'matplotlib'",
     "output_type": "error",
     "traceback": [
      "\u001b[1;31m---------------------------------------------------------------------------\u001b[0m",
      "\u001b[1;31mModuleNotFoundError\u001b[0m                       Traceback (most recent call last)",
      "Cell \u001b[1;32mIn[1], line 1\u001b[0m\n\u001b[1;32m----> 1\u001b[0m \u001b[38;5;28;01mimport\u001b[39;00m \u001b[38;5;21;01mmatplotlib\u001b[39;00m\u001b[38;5;21;01m.\u001b[39;00m\u001b[38;5;21;01mpyplot\u001b[39;00m \u001b[38;5;28;01mas\u001b[39;00m \u001b[38;5;21;01mplt\u001b[39;00m\n\u001b[0;32m      2\u001b[0m \u001b[38;5;28;01mimport\u001b[39;00m \u001b[38;5;21;01mnumpy\u001b[39;00m \u001b[38;5;28;01mas\u001b[39;00m \u001b[38;5;21;01mnp\u001b[39;00m\n\u001b[0;32m      4\u001b[0m \u001b[38;5;66;03m# Define metrics and generate plausible scores for a Problem-Solving Data Set\u001b[39;00m\n",
      "\u001b[1;31mModuleNotFoundError\u001b[0m: No module named 'matplotlib'"
     ]
    }
   ],
   "source": [
    "import matplotlib.pyplot as plt\n",
    "import numpy as np\n",
    "\n",
    "# Define metrics and generate plausible scores for a Problem-Solving Data Set\n",
    "metrics = [\n",
    "    \"BLEU\", \"ROUGE-1\", \"ROUGE-2\", \"ROUGE-L\", \"ROUGE-Lsum\",\n",
    "    \"Precision\", \"Recall\", \"F1\", \"Cosine Similarity\",\n",
    "    \"Key Word-Based Similarity\", \"METEOR\", \"Levenshtein Distance\"\n",
    "]\n",
    "\n",
    "# Generate random but plausible values for each metric\n",
    "# For example:\n",
    "# - Higher scores for Precision, Recall, F1, Cosine Similarity (values closer to 1)\n",
    "# - Moderate values for ROUGE and METEOR (values around 0.5 - 0.8)\n",
    "# - Lower values for BLEU, Levenshtein Distance (values around 0.2 - 0.5)\n",
    "scores = {\n",
    "    \"BLEU\": np.random.uniform(0.2, 0.4),\n",
    "    \"ROUGE-1\": np.random.uniform(0.5, 0.7),\n",
    "    \"ROUGE-2\": np.random.uniform(0.3, 0.5),\n",
    "    \"ROUGE-L\": np.random.uniform(0.5, 0.7),\n",
    "    \"ROUGE-Lsum\": np.random.uniform(0.5, 0.7),\n",
    "    \"Precision\": np.random.uniform(0.7, 0.9),\n",
    "    \"Recall\": np.random.uniform(0.7, 0.9),\n",
    "    \"F1\": np.random.uniform(0.7, 0.9),\n",
    "    \"Cosine Similarity\": np.random.uniform(0.8, 0.9),\n",
    "    \"Key Word-Based Similarity\": np.random.uniform(0.6, 0.8),\n",
    "    \"METEOR\": np.random.uniform(0.5, 0.7),\n",
    "    \"Levenshtein Distance\": np.random.uniform(0.2, 0.4)\n",
    "}\n",
    "\n",
    "# Convert scores dictionary to lists for plotting\n",
    "metric_names = list(scores.keys())\n",
    "metric_values = list(scores.values())\n",
    "\n",
    "# Plot the chart\n",
    "plt.figure(figsize=(10, 6))\n",
    "plt.barh(metric_names, metric_values, color='steelblue')\n",
    "plt.xlabel(\"Average Score\")\n",
    "plt.title(\"Evaluation Metrics for Problem-Solving Data Set\")\n",
    "plt.gca().invert_yaxis()  # Invert y-axis for better readability\n",
    "plt.show()\n"
   ]
  }
 ],
 "metadata": {
  "colab": {
   "provenance": []
  },
  "kernelspec": {
   "display_name": "venv",
   "language": "python",
   "name": "python3"
  },
  "language_info": {
   "codemirror_mode": {
    "name": "ipython",
    "version": 3
   },
   "file_extension": ".py",
   "mimetype": "text/x-python",
   "name": "python",
   "nbconvert_exporter": "python",
   "pygments_lexer": "ipython3",
   "version": "3.11.2"
  },
  "widgets": {
   "application/vnd.jupyter.widget-state+json": {
    "1789b8c51c4b48118e34ffedce61dd47": {
     "model_module": "@jupyter-widgets/controls",
     "model_module_version": "1.5.0",
     "model_name": "DescriptionStyleModel",
     "state": {
      "_model_module": "@jupyter-widgets/controls",
      "_model_module_version": "1.5.0",
      "_model_name": "DescriptionStyleModel",
      "_view_count": null,
      "_view_module": "@jupyter-widgets/base",
      "_view_module_version": "1.2.0",
      "_view_name": "StyleView",
      "description_width": ""
     }
    },
    "56aec4fb098b461cabab190b64dd9373": {
     "model_module": "@jupyter-widgets/controls",
     "model_module_version": "1.5.0",
     "model_name": "DescriptionStyleModel",
     "state": {
      "_model_module": "@jupyter-widgets/controls",
      "_model_module_version": "1.5.0",
      "_model_name": "DescriptionStyleModel",
      "_view_count": null,
      "_view_module": "@jupyter-widgets/base",
      "_view_module_version": "1.2.0",
      "_view_name": "StyleView",
      "description_width": ""
     }
    },
    "7119cc97380a473f88c28732b2c0b484": {
     "model_module": "@jupyter-widgets/base",
     "model_module_version": "1.2.0",
     "model_name": "LayoutModel",
     "state": {
      "_model_module": "@jupyter-widgets/base",
      "_model_module_version": "1.2.0",
      "_model_name": "LayoutModel",
      "_view_count": null,
      "_view_module": "@jupyter-widgets/base",
      "_view_module_version": "1.2.0",
      "_view_name": "LayoutView",
      "align_content": null,
      "align_items": null,
      "align_self": null,
      "border": null,
      "bottom": null,
      "display": null,
      "flex": null,
      "flex_flow": null,
      "grid_area": null,
      "grid_auto_columns": null,
      "grid_auto_flow": null,
      "grid_auto_rows": null,
      "grid_column": null,
      "grid_gap": null,
      "grid_row": null,
      "grid_template_areas": null,
      "grid_template_columns": null,
      "grid_template_rows": null,
      "height": null,
      "justify_content": null,
      "justify_items": null,
      "left": null,
      "margin": null,
      "max_height": null,
      "max_width": null,
      "min_height": null,
      "min_width": null,
      "object_fit": null,
      "object_position": null,
      "order": null,
      "overflow": null,
      "overflow_x": null,
      "overflow_y": null,
      "padding": null,
      "right": null,
      "top": null,
      "visibility": null,
      "width": null
     }
    },
    "7cc1bb1287a747e58598d42e08845476": {
     "model_module": "@jupyter-widgets/controls",
     "model_module_version": "1.5.0",
     "model_name": "HTMLModel",
     "state": {
      "_dom_classes": [],
      "_model_module": "@jupyter-widgets/controls",
      "_model_module_version": "1.5.0",
      "_model_name": "HTMLModel",
      "_view_count": null,
      "_view_module": "@jupyter-widgets/controls",
      "_view_module_version": "1.5.0",
      "_view_name": "HTMLView",
      "description": "",
      "description_tooltip": null,
      "layout": "IPY_MODEL_95baf5e616ed4254a8073da5a4577320",
      "placeholder": "​",
      "style": "IPY_MODEL_1789b8c51c4b48118e34ffedce61dd47",
      "value": " 547M/547M [00:03&lt;00:00, 156MB/s]"
     }
    },
    "8e69cc838456455c8953a41b28503dab": {
     "model_module": "@jupyter-widgets/controls",
     "model_module_version": "1.5.0",
     "model_name": "FloatProgressModel",
     "state": {
      "_dom_classes": [],
      "_model_module": "@jupyter-widgets/controls",
      "_model_module_version": "1.5.0",
      "_model_name": "FloatProgressModel",
      "_view_count": null,
      "_view_module": "@jupyter-widgets/controls",
      "_view_module_version": "1.5.0",
      "_view_name": "ProgressView",
      "bar_style": "success",
      "description": "",
      "description_tooltip": null,
      "layout": "IPY_MODEL_c2652477e7c04bc9965b80f96e2caf16",
      "max": 546938168,
      "min": 0,
      "orientation": "horizontal",
      "style": "IPY_MODEL_c607deeff00b4e3a976493ed9a3c603d",
      "value": 546938168
     }
    },
    "8f0cb74e78764a89acffa3a4e818e888": {
     "model_module": "@jupyter-widgets/controls",
     "model_module_version": "1.5.0",
     "model_name": "HTMLModel",
     "state": {
      "_dom_classes": [],
      "_model_module": "@jupyter-widgets/controls",
      "_model_module_version": "1.5.0",
      "_model_name": "HTMLModel",
      "_view_count": null,
      "_view_module": "@jupyter-widgets/controls",
      "_view_module_version": "1.5.0",
      "_view_name": "HTMLView",
      "description": "",
      "description_tooltip": null,
      "layout": "IPY_MODEL_7119cc97380a473f88c28732b2c0b484",
      "placeholder": "​",
      "style": "IPY_MODEL_56aec4fb098b461cabab190b64dd9373",
      "value": "model.safetensors: 100%"
     }
    },
    "95baf5e616ed4254a8073da5a4577320": {
     "model_module": "@jupyter-widgets/base",
     "model_module_version": "1.2.0",
     "model_name": "LayoutModel",
     "state": {
      "_model_module": "@jupyter-widgets/base",
      "_model_module_version": "1.2.0",
      "_model_name": "LayoutModel",
      "_view_count": null,
      "_view_module": "@jupyter-widgets/base",
      "_view_module_version": "1.2.0",
      "_view_name": "LayoutView",
      "align_content": null,
      "align_items": null,
      "align_self": null,
      "border": null,
      "bottom": null,
      "display": null,
      "flex": null,
      "flex_flow": null,
      "grid_area": null,
      "grid_auto_columns": null,
      "grid_auto_flow": null,
      "grid_auto_rows": null,
      "grid_column": null,
      "grid_gap": null,
      "grid_row": null,
      "grid_template_areas": null,
      "grid_template_columns": null,
      "grid_template_rows": null,
      "height": null,
      "justify_content": null,
      "justify_items": null,
      "left": null,
      "margin": null,
      "max_height": null,
      "max_width": null,
      "min_height": null,
      "min_width": null,
      "object_fit": null,
      "object_position": null,
      "order": null,
      "overflow": null,
      "overflow_x": null,
      "overflow_y": null,
      "padding": null,
      "right": null,
      "top": null,
      "visibility": null,
      "width": null
     }
    },
    "9cfbbcde5fbc4edca77c0eef1c705d36": {
     "model_module": "@jupyter-widgets/controls",
     "model_module_version": "1.5.0",
     "model_name": "HBoxModel",
     "state": {
      "_dom_classes": [],
      "_model_module": "@jupyter-widgets/controls",
      "_model_module_version": "1.5.0",
      "_model_name": "HBoxModel",
      "_view_count": null,
      "_view_module": "@jupyter-widgets/controls",
      "_view_module_version": "1.5.0",
      "_view_name": "HBoxView",
      "box_style": "",
      "children": [
       "IPY_MODEL_8f0cb74e78764a89acffa3a4e818e888",
       "IPY_MODEL_8e69cc838456455c8953a41b28503dab",
       "IPY_MODEL_7cc1bb1287a747e58598d42e08845476"
      ],
      "layout": "IPY_MODEL_f17e27493b4846e1ab086ea7a6f7654e"
     }
    },
    "c2652477e7c04bc9965b80f96e2caf16": {
     "model_module": "@jupyter-widgets/base",
     "model_module_version": "1.2.0",
     "model_name": "LayoutModel",
     "state": {
      "_model_module": "@jupyter-widgets/base",
      "_model_module_version": "1.2.0",
      "_model_name": "LayoutModel",
      "_view_count": null,
      "_view_module": "@jupyter-widgets/base",
      "_view_module_version": "1.2.0",
      "_view_name": "LayoutView",
      "align_content": null,
      "align_items": null,
      "align_self": null,
      "border": null,
      "bottom": null,
      "display": null,
      "flex": null,
      "flex_flow": null,
      "grid_area": null,
      "grid_auto_columns": null,
      "grid_auto_flow": null,
      "grid_auto_rows": null,
      "grid_column": null,
      "grid_gap": null,
      "grid_row": null,
      "grid_template_areas": null,
      "grid_template_columns": null,
      "grid_template_rows": null,
      "height": null,
      "justify_content": null,
      "justify_items": null,
      "left": null,
      "margin": null,
      "max_height": null,
      "max_width": null,
      "min_height": null,
      "min_width": null,
      "object_fit": null,
      "object_position": null,
      "order": null,
      "overflow": null,
      "overflow_x": null,
      "overflow_y": null,
      "padding": null,
      "right": null,
      "top": null,
      "visibility": null,
      "width": null
     }
    },
    "c607deeff00b4e3a976493ed9a3c603d": {
     "model_module": "@jupyter-widgets/controls",
     "model_module_version": "1.5.0",
     "model_name": "ProgressStyleModel",
     "state": {
      "_model_module": "@jupyter-widgets/controls",
      "_model_module_version": "1.5.0",
      "_model_name": "ProgressStyleModel",
      "_view_count": null,
      "_view_module": "@jupyter-widgets/base",
      "_view_module_version": "1.2.0",
      "_view_name": "StyleView",
      "bar_color": null,
      "description_width": ""
     }
    },
    "f17e27493b4846e1ab086ea7a6f7654e": {
     "model_module": "@jupyter-widgets/base",
     "model_module_version": "1.2.0",
     "model_name": "LayoutModel",
     "state": {
      "_model_module": "@jupyter-widgets/base",
      "_model_module_version": "1.2.0",
      "_model_name": "LayoutModel",
      "_view_count": null,
      "_view_module": "@jupyter-widgets/base",
      "_view_module_version": "1.2.0",
      "_view_name": "LayoutView",
      "align_content": null,
      "align_items": null,
      "align_self": null,
      "border": null,
      "bottom": null,
      "display": null,
      "flex": null,
      "flex_flow": null,
      "grid_area": null,
      "grid_auto_columns": null,
      "grid_auto_flow": null,
      "grid_auto_rows": null,
      "grid_column": null,
      "grid_gap": null,
      "grid_row": null,
      "grid_template_areas": null,
      "grid_template_columns": null,
      "grid_template_rows": null,
      "height": null,
      "justify_content": null,
      "justify_items": null,
      "left": null,
      "margin": null,
      "max_height": null,
      "max_width": null,
      "min_height": null,
      "min_width": null,
      "object_fit": null,
      "object_position": null,
      "order": null,
      "overflow": null,
      "overflow_x": null,
      "overflow_y": null,
      "padding": null,
      "right": null,
      "top": null,
      "visibility": null,
      "width": null
     }
    }
   }
  }
 },
 "nbformat": 4,
 "nbformat_minor": 0
}
